{
  "cells": [
    {
      "cell_type": "code",
      "source": [
        "%capture\n",
        "! pip install yellowbrick openai"
      ],
      "metadata": {
        "id": "l--u7lPTlT5X"
      },
      "execution_count": null,
      "outputs": []
    },
    {
      "cell_type": "code",
      "execution_count": 246,
      "metadata": {
        "id": "nxABVDAG5_Oy"
      },
      "outputs": [],
      "source": [
        "import re\n",
        "import pandas as pd\n",
        "import numpy as np\n",
        "import matplotlib.pyplot as plt\n",
        "import seaborn as sns\n",
        "import plotly.express as px\n",
        "from itertools import islice\n",
        "from tqdm import tqdm\n",
        "from scipy.stats import norm\n",
        "from sklearn.mixture import GaussianMixture\n",
        "from sklearn.neighbors import KernelDensity\n",
        "from sklearn.cluster import KMeans\n",
        "from collections import Counter, OrderedDict, defaultdict\n",
        "import numpy as np\n",
        "from scipy.special import kl_div\n",
        "import aiohttp\n",
        "import asyncio\n",
        "from aiohttp import ClientSession\n",
        "from tenacity import (\n",
        "    retry,\n",
        "    stop_after_attempt,\n",
        "    wait_random_exponential,\n",
        ")\n",
        "from yellowbrick.cluster import SilhouetteVisualizer, KElbowVisualizer\n",
        "from sklearn.cluster import DBSCAN\n",
        "\n",
        "import os\n",
        "import openai\n",
        "\n",
        "import warnings\n",
        "warnings.simplefilter(action='ignore', category=FutureWarning)\n",
        "\n",
        "sns.set_theme()"
      ]
    },
    {
      "cell_type": "code",
      "execution_count": 356,
      "metadata": {
        "id": "wYrdaXPy_PiZ"
      },
      "outputs": [],
      "source": [
        "df_annotations = pd.read_csv('https://raw.githubusercontent.com/genusB/challenge/master/bot-annotators/nlp-challenge.csv')"
      ]
    },
    {
      "cell_type": "markdown",
      "metadata": {
        "id": "Nj-a6tIJOl49"
      },
      "source": [
        "## Utils"
      ]
    },
    {
      "cell_type": "code",
      "execution_count": 248,
      "metadata": {
        "id": "XwQx0z5sOdag"
      },
      "outputs": [],
      "source": [
        "def flatten_list(nested_list):\n",
        "  return [item for row in nested_list for item in row]"
      ]
    },
    {
      "cell_type": "code",
      "source": [
        "def get_keys(array_of_dict):\n",
        "  return [list(d.keys())[0] for d in array_of_dict]"
      ],
      "metadata": {
        "id": "Bzj3cL3C1kIb"
      },
      "execution_count": 249,
      "outputs": []
    },
    {
      "cell_type": "code",
      "source": [
        "def get_values(array_of_dict):\n",
        "  return [list(d.values())[0] for d in array_of_dict]"
      ],
      "metadata": {
        "id": "p97Akdc42fI7"
      },
      "execution_count": 250,
      "outputs": []
    },
    {
      "cell_type": "markdown",
      "metadata": {
        "id": "fB9GiNaLDtnH"
      },
      "source": [
        "## EDA"
      ]
    },
    {
      "cell_type": "code",
      "execution_count": 357,
      "metadata": {
        "colab": {
          "base_uri": "https://localhost:8080/",
          "height": 521
        },
        "id": "40kkZeehCUVS",
        "outputId": "e78ff2d1-7ea9-4a1b-ac8c-37257cbcf367"
      },
      "outputs": [
        {
          "output_type": "execute_result",
          "data": {
            "text/plain": [
              "     Annotator ID                                               Text  Answer\n",
              "0  A1MG8KNVSVZ365  @cz_binance Thanks for being upfront about thi...    True\n",
              "1  A3OCJJMRKAIJZA  @cz_binance Thanks for being upfront about thi...    True\n",
              "2   AQIP3DSYXEXX5  @cz_binance Thanks for being upfront about thi...    True\n",
              "3  A1MG8KNVSVZ365  @cz_binance The speed with which Binance has r...   False\n",
              "4  A3MV3PT4TOO69P  @cz_binance The speed with which Binance has r...    True"
            ],
            "text/html": [
              "\n",
              "  <div id=\"df-32947fbf-da5f-4a37-9e2c-cda6f5b05f85\" class=\"colab-df-container\">\n",
              "    <div>\n",
              "<style scoped>\n",
              "    .dataframe tbody tr th:only-of-type {\n",
              "        vertical-align: middle;\n",
              "    }\n",
              "\n",
              "    .dataframe tbody tr th {\n",
              "        vertical-align: top;\n",
              "    }\n",
              "\n",
              "    .dataframe thead th {\n",
              "        text-align: right;\n",
              "    }\n",
              "</style>\n",
              "<table border=\"1\" class=\"dataframe\">\n",
              "  <thead>\n",
              "    <tr style=\"text-align: right;\">\n",
              "      <th></th>\n",
              "      <th>Annotator ID</th>\n",
              "      <th>Text</th>\n",
              "      <th>Answer</th>\n",
              "    </tr>\n",
              "  </thead>\n",
              "  <tbody>\n",
              "    <tr>\n",
              "      <th>0</th>\n",
              "      <td>A1MG8KNVSVZ365</td>\n",
              "      <td>@cz_binance Thanks for being upfront about thi...</td>\n",
              "      <td>True</td>\n",
              "    </tr>\n",
              "    <tr>\n",
              "      <th>1</th>\n",
              "      <td>A3OCJJMRKAIJZA</td>\n",
              "      <td>@cz_binance Thanks for being upfront about thi...</td>\n",
              "      <td>True</td>\n",
              "    </tr>\n",
              "    <tr>\n",
              "      <th>2</th>\n",
              "      <td>AQIP3DSYXEXX5</td>\n",
              "      <td>@cz_binance Thanks for being upfront about thi...</td>\n",
              "      <td>True</td>\n",
              "    </tr>\n",
              "    <tr>\n",
              "      <th>3</th>\n",
              "      <td>A1MG8KNVSVZ365</td>\n",
              "      <td>@cz_binance The speed with which Binance has r...</td>\n",
              "      <td>False</td>\n",
              "    </tr>\n",
              "    <tr>\n",
              "      <th>4</th>\n",
              "      <td>A3MV3PT4TOO69P</td>\n",
              "      <td>@cz_binance The speed with which Binance has r...</td>\n",
              "      <td>True</td>\n",
              "    </tr>\n",
              "  </tbody>\n",
              "</table>\n",
              "</div>\n",
              "    <div class=\"colab-df-buttons\">\n",
              "\n",
              "  <div class=\"colab-df-container\">\n",
              "    <button class=\"colab-df-convert\" onclick=\"convertToInteractive('df-32947fbf-da5f-4a37-9e2c-cda6f5b05f85')\"\n",
              "            title=\"Convert this dataframe to an interactive table.\"\n",
              "            style=\"display:none;\">\n",
              "\n",
              "  <svg xmlns=\"http://www.w3.org/2000/svg\" height=\"24px\" viewBox=\"0 -960 960 960\">\n",
              "    <path d=\"M120-120v-720h720v720H120Zm60-500h600v-160H180v160Zm220 220h160v-160H400v160Zm0 220h160v-160H400v160ZM180-400h160v-160H180v160Zm440 0h160v-160H620v160ZM180-180h160v-160H180v160Zm440 0h160v-160H620v160Z\"/>\n",
              "  </svg>\n",
              "    </button>\n",
              "\n",
              "  <style>\n",
              "    .colab-df-container {\n",
              "      display:flex;\n",
              "      gap: 12px;\n",
              "    }\n",
              "\n",
              "    .colab-df-convert {\n",
              "      background-color: #E8F0FE;\n",
              "      border: none;\n",
              "      border-radius: 50%;\n",
              "      cursor: pointer;\n",
              "      display: none;\n",
              "      fill: #1967D2;\n",
              "      height: 32px;\n",
              "      padding: 0 0 0 0;\n",
              "      width: 32px;\n",
              "    }\n",
              "\n",
              "    .colab-df-convert:hover {\n",
              "      background-color: #E2EBFA;\n",
              "      box-shadow: 0px 1px 2px rgba(60, 64, 67, 0.3), 0px 1px 3px 1px rgba(60, 64, 67, 0.15);\n",
              "      fill: #174EA6;\n",
              "    }\n",
              "\n",
              "    .colab-df-buttons div {\n",
              "      margin-bottom: 4px;\n",
              "    }\n",
              "\n",
              "    [theme=dark] .colab-df-convert {\n",
              "      background-color: #3B4455;\n",
              "      fill: #D2E3FC;\n",
              "    }\n",
              "\n",
              "    [theme=dark] .colab-df-convert:hover {\n",
              "      background-color: #434B5C;\n",
              "      box-shadow: 0px 1px 3px 1px rgba(0, 0, 0, 0.15);\n",
              "      filter: drop-shadow(0px 1px 2px rgba(0, 0, 0, 0.3));\n",
              "      fill: #FFFFFF;\n",
              "    }\n",
              "  </style>\n",
              "\n",
              "    <script>\n",
              "      const buttonEl =\n",
              "        document.querySelector('#df-32947fbf-da5f-4a37-9e2c-cda6f5b05f85 button.colab-df-convert');\n",
              "      buttonEl.style.display =\n",
              "        google.colab.kernel.accessAllowed ? 'block' : 'none';\n",
              "\n",
              "      async function convertToInteractive(key) {\n",
              "        const element = document.querySelector('#df-32947fbf-da5f-4a37-9e2c-cda6f5b05f85');\n",
              "        const dataTable =\n",
              "          await google.colab.kernel.invokeFunction('convertToInteractive',\n",
              "                                                    [key], {});\n",
              "        if (!dataTable) return;\n",
              "\n",
              "        const docLinkHtml = 'Like what you see? Visit the ' +\n",
              "          '<a target=\"_blank\" href=https://colab.research.google.com/notebooks/data_table.ipynb>data table notebook</a>'\n",
              "          + ' to learn more about interactive tables.';\n",
              "        element.innerHTML = '';\n",
              "        dataTable['output_type'] = 'display_data';\n",
              "        await google.colab.output.renderOutput(dataTable, element);\n",
              "        const docLink = document.createElement('div');\n",
              "        docLink.innerHTML = docLinkHtml;\n",
              "        element.appendChild(docLink);\n",
              "      }\n",
              "    </script>\n",
              "  </div>\n",
              "\n",
              "\n",
              "<div id=\"df-e5e01deb-bfe4-4472-a2e4-6f7a6217d7e4\">\n",
              "  <button class=\"colab-df-quickchart\" onclick=\"quickchart('df-e5e01deb-bfe4-4472-a2e4-6f7a6217d7e4')\"\n",
              "            title=\"Suggest charts.\"\n",
              "            style=\"display:none;\">\n",
              "\n",
              "<svg xmlns=\"http://www.w3.org/2000/svg\" height=\"24px\"viewBox=\"0 0 24 24\"\n",
              "     width=\"24px\">\n",
              "    <g>\n",
              "        <path d=\"M19 3H5c-1.1 0-2 .9-2 2v14c0 1.1.9 2 2 2h14c1.1 0 2-.9 2-2V5c0-1.1-.9-2-2-2zM9 17H7v-7h2v7zm4 0h-2V7h2v10zm4 0h-2v-4h2v4z\"/>\n",
              "    </g>\n",
              "</svg>\n",
              "  </button>\n",
              "\n",
              "<style>\n",
              "  .colab-df-quickchart {\n",
              "      --bg-color: #E8F0FE;\n",
              "      --fill-color: #1967D2;\n",
              "      --hover-bg-color: #E2EBFA;\n",
              "      --hover-fill-color: #174EA6;\n",
              "      --disabled-fill-color: #AAA;\n",
              "      --disabled-bg-color: #DDD;\n",
              "  }\n",
              "\n",
              "  [theme=dark] .colab-df-quickchart {\n",
              "      --bg-color: #3B4455;\n",
              "      --fill-color: #D2E3FC;\n",
              "      --hover-bg-color: #434B5C;\n",
              "      --hover-fill-color: #FFFFFF;\n",
              "      --disabled-bg-color: #3B4455;\n",
              "      --disabled-fill-color: #666;\n",
              "  }\n",
              "\n",
              "  .colab-df-quickchart {\n",
              "    background-color: var(--bg-color);\n",
              "    border: none;\n",
              "    border-radius: 50%;\n",
              "    cursor: pointer;\n",
              "    display: none;\n",
              "    fill: var(--fill-color);\n",
              "    height: 32px;\n",
              "    padding: 0;\n",
              "    width: 32px;\n",
              "  }\n",
              "\n",
              "  .colab-df-quickchart:hover {\n",
              "    background-color: var(--hover-bg-color);\n",
              "    box-shadow: 0 1px 2px rgba(60, 64, 67, 0.3), 0 1px 3px 1px rgba(60, 64, 67, 0.15);\n",
              "    fill: var(--button-hover-fill-color);\n",
              "  }\n",
              "\n",
              "  .colab-df-quickchart-complete:disabled,\n",
              "  .colab-df-quickchart-complete:disabled:hover {\n",
              "    background-color: var(--disabled-bg-color);\n",
              "    fill: var(--disabled-fill-color);\n",
              "    box-shadow: none;\n",
              "  }\n",
              "\n",
              "  .colab-df-spinner {\n",
              "    border: 2px solid var(--fill-color);\n",
              "    border-color: transparent;\n",
              "    border-bottom-color: var(--fill-color);\n",
              "    animation:\n",
              "      spin 1s steps(1) infinite;\n",
              "  }\n",
              "\n",
              "  @keyframes spin {\n",
              "    0% {\n",
              "      border-color: transparent;\n",
              "      border-bottom-color: var(--fill-color);\n",
              "      border-left-color: var(--fill-color);\n",
              "    }\n",
              "    20% {\n",
              "      border-color: transparent;\n",
              "      border-left-color: var(--fill-color);\n",
              "      border-top-color: var(--fill-color);\n",
              "    }\n",
              "    30% {\n",
              "      border-color: transparent;\n",
              "      border-left-color: var(--fill-color);\n",
              "      border-top-color: var(--fill-color);\n",
              "      border-right-color: var(--fill-color);\n",
              "    }\n",
              "    40% {\n",
              "      border-color: transparent;\n",
              "      border-right-color: var(--fill-color);\n",
              "      border-top-color: var(--fill-color);\n",
              "    }\n",
              "    60% {\n",
              "      border-color: transparent;\n",
              "      border-right-color: var(--fill-color);\n",
              "    }\n",
              "    80% {\n",
              "      border-color: transparent;\n",
              "      border-right-color: var(--fill-color);\n",
              "      border-bottom-color: var(--fill-color);\n",
              "    }\n",
              "    90% {\n",
              "      border-color: transparent;\n",
              "      border-bottom-color: var(--fill-color);\n",
              "    }\n",
              "  }\n",
              "</style>\n",
              "\n",
              "  <script>\n",
              "    async function quickchart(key) {\n",
              "      const quickchartButtonEl =\n",
              "        document.querySelector('#' + key + ' button');\n",
              "      quickchartButtonEl.disabled = true;  // To prevent multiple clicks.\n",
              "      quickchartButtonEl.classList.add('colab-df-spinner');\n",
              "      try {\n",
              "        const charts = await google.colab.kernel.invokeFunction(\n",
              "            'suggestCharts', [key], {});\n",
              "      } catch (error) {\n",
              "        console.error('Error during call to suggestCharts:', error);\n",
              "      }\n",
              "      quickchartButtonEl.classList.remove('colab-df-spinner');\n",
              "      quickchartButtonEl.classList.add('colab-df-quickchart-complete');\n",
              "    }\n",
              "    (() => {\n",
              "      let quickchartButtonEl =\n",
              "        document.querySelector('#df-e5e01deb-bfe4-4472-a2e4-6f7a6217d7e4 button');\n",
              "      quickchartButtonEl.style.display =\n",
              "        google.colab.kernel.accessAllowed ? 'block' : 'none';\n",
              "    })();\n",
              "  </script>\n",
              "</div>\n",
              "    </div>\n",
              "  </div>\n"
            ]
          },
          "metadata": {},
          "execution_count": 357
        }
      ],
      "source": [
        "df_annotations.head(5)"
      ]
    },
    {
      "cell_type": "code",
      "execution_count": 358,
      "metadata": {
        "colab": {
          "base_uri": "https://localhost:8080/"
        },
        "id": "N4QmOOLlCXcQ",
        "outputId": "3e08be9c-c06a-4eb5-81bf-348161e3e8b8"
      },
      "outputs": [
        {
          "output_type": "stream",
          "name": "stdout",
          "text": [
            "<class 'pandas.core.frame.DataFrame'>\n",
            "RangeIndex: 36417 entries, 0 to 36416\n",
            "Data columns (total 3 columns):\n",
            " #   Column        Non-Null Count  Dtype \n",
            "---  ------        --------------  ----- \n",
            " 0   Annotator ID  36417 non-null  object\n",
            " 1   Text          36417 non-null  object\n",
            " 2   Answer        36417 non-null  bool  \n",
            "dtypes: bool(1), object(2)\n",
            "memory usage: 604.7+ KB\n"
          ]
        }
      ],
      "source": [
        "df_annotations.info()"
      ]
    },
    {
      "cell_type": "code",
      "execution_count": 359,
      "metadata": {
        "colab": {
          "base_uri": "https://localhost:8080/",
          "height": 264
        },
        "id": "g_ThhuesCepF",
        "outputId": "d670de52-17ea-4ea4-e20a-90c08d7ba22e"
      },
      "outputs": [
        {
          "output_type": "execute_result",
          "data": {
            "text/plain": [
              "          Annotator ID                                               Text  \\\n",
              "count            36417                                              36417   \n",
              "unique              52                                              12137   \n",
              "top     A3MV3PT4TOO69P  @kucoincom  Ummmmm Did you guys get hacked? Th...   \n",
              "freq              5126                                                  4   \n",
              "\n",
              "       Answer  \n",
              "count   36417  \n",
              "unique      2  \n",
              "top      True  \n",
              "freq    19783  "
            ],
            "text/html": [
              "\n",
              "  <div id=\"df-28e6fe31-1edc-40aa-91f9-099e6b2f3f76\" class=\"colab-df-container\">\n",
              "    <div>\n",
              "<style scoped>\n",
              "    .dataframe tbody tr th:only-of-type {\n",
              "        vertical-align: middle;\n",
              "    }\n",
              "\n",
              "    .dataframe tbody tr th {\n",
              "        vertical-align: top;\n",
              "    }\n",
              "\n",
              "    .dataframe thead th {\n",
              "        text-align: right;\n",
              "    }\n",
              "</style>\n",
              "<table border=\"1\" class=\"dataframe\">\n",
              "  <thead>\n",
              "    <tr style=\"text-align: right;\">\n",
              "      <th></th>\n",
              "      <th>Annotator ID</th>\n",
              "      <th>Text</th>\n",
              "      <th>Answer</th>\n",
              "    </tr>\n",
              "  </thead>\n",
              "  <tbody>\n",
              "    <tr>\n",
              "      <th>count</th>\n",
              "      <td>36417</td>\n",
              "      <td>36417</td>\n",
              "      <td>36417</td>\n",
              "    </tr>\n",
              "    <tr>\n",
              "      <th>unique</th>\n",
              "      <td>52</td>\n",
              "      <td>12137</td>\n",
              "      <td>2</td>\n",
              "    </tr>\n",
              "    <tr>\n",
              "      <th>top</th>\n",
              "      <td>A3MV3PT4TOO69P</td>\n",
              "      <td>@kucoincom  Ummmmm Did you guys get hacked? Th...</td>\n",
              "      <td>True</td>\n",
              "    </tr>\n",
              "    <tr>\n",
              "      <th>freq</th>\n",
              "      <td>5126</td>\n",
              "      <td>4</td>\n",
              "      <td>19783</td>\n",
              "    </tr>\n",
              "  </tbody>\n",
              "</table>\n",
              "</div>\n",
              "    <div class=\"colab-df-buttons\">\n",
              "\n",
              "  <div class=\"colab-df-container\">\n",
              "    <button class=\"colab-df-convert\" onclick=\"convertToInteractive('df-28e6fe31-1edc-40aa-91f9-099e6b2f3f76')\"\n",
              "            title=\"Convert this dataframe to an interactive table.\"\n",
              "            style=\"display:none;\">\n",
              "\n",
              "  <svg xmlns=\"http://www.w3.org/2000/svg\" height=\"24px\" viewBox=\"0 -960 960 960\">\n",
              "    <path d=\"M120-120v-720h720v720H120Zm60-500h600v-160H180v160Zm220 220h160v-160H400v160Zm0 220h160v-160H400v160ZM180-400h160v-160H180v160Zm440 0h160v-160H620v160ZM180-180h160v-160H180v160Zm440 0h160v-160H620v160Z\"/>\n",
              "  </svg>\n",
              "    </button>\n",
              "\n",
              "  <style>\n",
              "    .colab-df-container {\n",
              "      display:flex;\n",
              "      gap: 12px;\n",
              "    }\n",
              "\n",
              "    .colab-df-convert {\n",
              "      background-color: #E8F0FE;\n",
              "      border: none;\n",
              "      border-radius: 50%;\n",
              "      cursor: pointer;\n",
              "      display: none;\n",
              "      fill: #1967D2;\n",
              "      height: 32px;\n",
              "      padding: 0 0 0 0;\n",
              "      width: 32px;\n",
              "    }\n",
              "\n",
              "    .colab-df-convert:hover {\n",
              "      background-color: #E2EBFA;\n",
              "      box-shadow: 0px 1px 2px rgba(60, 64, 67, 0.3), 0px 1px 3px 1px rgba(60, 64, 67, 0.15);\n",
              "      fill: #174EA6;\n",
              "    }\n",
              "\n",
              "    .colab-df-buttons div {\n",
              "      margin-bottom: 4px;\n",
              "    }\n",
              "\n",
              "    [theme=dark] .colab-df-convert {\n",
              "      background-color: #3B4455;\n",
              "      fill: #D2E3FC;\n",
              "    }\n",
              "\n",
              "    [theme=dark] .colab-df-convert:hover {\n",
              "      background-color: #434B5C;\n",
              "      box-shadow: 0px 1px 3px 1px rgba(0, 0, 0, 0.15);\n",
              "      filter: drop-shadow(0px 1px 2px rgba(0, 0, 0, 0.3));\n",
              "      fill: #FFFFFF;\n",
              "    }\n",
              "  </style>\n",
              "\n",
              "    <script>\n",
              "      const buttonEl =\n",
              "        document.querySelector('#df-28e6fe31-1edc-40aa-91f9-099e6b2f3f76 button.colab-df-convert');\n",
              "      buttonEl.style.display =\n",
              "        google.colab.kernel.accessAllowed ? 'block' : 'none';\n",
              "\n",
              "      async function convertToInteractive(key) {\n",
              "        const element = document.querySelector('#df-28e6fe31-1edc-40aa-91f9-099e6b2f3f76');\n",
              "        const dataTable =\n",
              "          await google.colab.kernel.invokeFunction('convertToInteractive',\n",
              "                                                    [key], {});\n",
              "        if (!dataTable) return;\n",
              "\n",
              "        const docLinkHtml = 'Like what you see? Visit the ' +\n",
              "          '<a target=\"_blank\" href=https://colab.research.google.com/notebooks/data_table.ipynb>data table notebook</a>'\n",
              "          + ' to learn more about interactive tables.';\n",
              "        element.innerHTML = '';\n",
              "        dataTable['output_type'] = 'display_data';\n",
              "        await google.colab.output.renderOutput(dataTable, element);\n",
              "        const docLink = document.createElement('div');\n",
              "        docLink.innerHTML = docLinkHtml;\n",
              "        element.appendChild(docLink);\n",
              "      }\n",
              "    </script>\n",
              "  </div>\n",
              "\n",
              "\n",
              "<div id=\"df-075e5062-1c3a-4368-afc1-148674a8f6f5\">\n",
              "  <button class=\"colab-df-quickchart\" onclick=\"quickchart('df-075e5062-1c3a-4368-afc1-148674a8f6f5')\"\n",
              "            title=\"Suggest charts.\"\n",
              "            style=\"display:none;\">\n",
              "\n",
              "<svg xmlns=\"http://www.w3.org/2000/svg\" height=\"24px\"viewBox=\"0 0 24 24\"\n",
              "     width=\"24px\">\n",
              "    <g>\n",
              "        <path d=\"M19 3H5c-1.1 0-2 .9-2 2v14c0 1.1.9 2 2 2h14c1.1 0 2-.9 2-2V5c0-1.1-.9-2-2-2zM9 17H7v-7h2v7zm4 0h-2V7h2v10zm4 0h-2v-4h2v4z\"/>\n",
              "    </g>\n",
              "</svg>\n",
              "  </button>\n",
              "\n",
              "<style>\n",
              "  .colab-df-quickchart {\n",
              "      --bg-color: #E8F0FE;\n",
              "      --fill-color: #1967D2;\n",
              "      --hover-bg-color: #E2EBFA;\n",
              "      --hover-fill-color: #174EA6;\n",
              "      --disabled-fill-color: #AAA;\n",
              "      --disabled-bg-color: #DDD;\n",
              "  }\n",
              "\n",
              "  [theme=dark] .colab-df-quickchart {\n",
              "      --bg-color: #3B4455;\n",
              "      --fill-color: #D2E3FC;\n",
              "      --hover-bg-color: #434B5C;\n",
              "      --hover-fill-color: #FFFFFF;\n",
              "      --disabled-bg-color: #3B4455;\n",
              "      --disabled-fill-color: #666;\n",
              "  }\n",
              "\n",
              "  .colab-df-quickchart {\n",
              "    background-color: var(--bg-color);\n",
              "    border: none;\n",
              "    border-radius: 50%;\n",
              "    cursor: pointer;\n",
              "    display: none;\n",
              "    fill: var(--fill-color);\n",
              "    height: 32px;\n",
              "    padding: 0;\n",
              "    width: 32px;\n",
              "  }\n",
              "\n",
              "  .colab-df-quickchart:hover {\n",
              "    background-color: var(--hover-bg-color);\n",
              "    box-shadow: 0 1px 2px rgba(60, 64, 67, 0.3), 0 1px 3px 1px rgba(60, 64, 67, 0.15);\n",
              "    fill: var(--button-hover-fill-color);\n",
              "  }\n",
              "\n",
              "  .colab-df-quickchart-complete:disabled,\n",
              "  .colab-df-quickchart-complete:disabled:hover {\n",
              "    background-color: var(--disabled-bg-color);\n",
              "    fill: var(--disabled-fill-color);\n",
              "    box-shadow: none;\n",
              "  }\n",
              "\n",
              "  .colab-df-spinner {\n",
              "    border: 2px solid var(--fill-color);\n",
              "    border-color: transparent;\n",
              "    border-bottom-color: var(--fill-color);\n",
              "    animation:\n",
              "      spin 1s steps(1) infinite;\n",
              "  }\n",
              "\n",
              "  @keyframes spin {\n",
              "    0% {\n",
              "      border-color: transparent;\n",
              "      border-bottom-color: var(--fill-color);\n",
              "      border-left-color: var(--fill-color);\n",
              "    }\n",
              "    20% {\n",
              "      border-color: transparent;\n",
              "      border-left-color: var(--fill-color);\n",
              "      border-top-color: var(--fill-color);\n",
              "    }\n",
              "    30% {\n",
              "      border-color: transparent;\n",
              "      border-left-color: var(--fill-color);\n",
              "      border-top-color: var(--fill-color);\n",
              "      border-right-color: var(--fill-color);\n",
              "    }\n",
              "    40% {\n",
              "      border-color: transparent;\n",
              "      border-right-color: var(--fill-color);\n",
              "      border-top-color: var(--fill-color);\n",
              "    }\n",
              "    60% {\n",
              "      border-color: transparent;\n",
              "      border-right-color: var(--fill-color);\n",
              "    }\n",
              "    80% {\n",
              "      border-color: transparent;\n",
              "      border-right-color: var(--fill-color);\n",
              "      border-bottom-color: var(--fill-color);\n",
              "    }\n",
              "    90% {\n",
              "      border-color: transparent;\n",
              "      border-bottom-color: var(--fill-color);\n",
              "    }\n",
              "  }\n",
              "</style>\n",
              "\n",
              "  <script>\n",
              "    async function quickchart(key) {\n",
              "      const quickchartButtonEl =\n",
              "        document.querySelector('#' + key + ' button');\n",
              "      quickchartButtonEl.disabled = true;  // To prevent multiple clicks.\n",
              "      quickchartButtonEl.classList.add('colab-df-spinner');\n",
              "      try {\n",
              "        const charts = await google.colab.kernel.invokeFunction(\n",
              "            'suggestCharts', [key], {});\n",
              "      } catch (error) {\n",
              "        console.error('Error during call to suggestCharts:', error);\n",
              "      }\n",
              "      quickchartButtonEl.classList.remove('colab-df-spinner');\n",
              "      quickchartButtonEl.classList.add('colab-df-quickchart-complete');\n",
              "    }\n",
              "    (() => {\n",
              "      let quickchartButtonEl =\n",
              "        document.querySelector('#df-075e5062-1c3a-4368-afc1-148674a8f6f5 button');\n",
              "      quickchartButtonEl.style.display =\n",
              "        google.colab.kernel.accessAllowed ? 'block' : 'none';\n",
              "    })();\n",
              "  </script>\n",
              "</div>\n",
              "    </div>\n",
              "  </div>\n"
            ]
          },
          "metadata": {},
          "execution_count": 359
        }
      ],
      "source": [
        "df_annotations.describe()"
      ]
    },
    {
      "cell_type": "code",
      "execution_count": 360,
      "metadata": {
        "colab": {
          "base_uri": "https://localhost:8080/"
        },
        "id": "lBNawUkuDokK",
        "outputId": "a052bd22-6b36-4f56-d308-71e98500ed68"
      },
      "outputs": [
        {
          "output_type": "execute_result",
          "data": {
            "text/plain": [
              "Annotator ID    0\n",
              "Text            0\n",
              "Answer          0\n",
              "dtype: int64"
            ]
          },
          "metadata": {},
          "execution_count": 360
        }
      ],
      "source": [
        "df_annotations.isna().sum()"
      ]
    },
    {
      "cell_type": "code",
      "execution_count": 361,
      "metadata": {
        "id": "e2H0_e_mI0kS"
      },
      "outputs": [],
      "source": [
        "df_annotations.loc[:, 'Text'] = df_annotations['Text'].apply(lambda x: x.strip())"
      ]
    },
    {
      "cell_type": "code",
      "execution_count": 362,
      "metadata": {
        "id": "2q_zI6-rI8z8"
      },
      "outputs": [],
      "source": [
        "assert len(df_annotations) == len(df_annotations[df_annotations['Text'].str.len() > 0])"
      ]
    },
    {
      "cell_type": "code",
      "execution_count": 363,
      "metadata": {
        "id": "pNtfCuMDfoHE"
      },
      "outputs": [],
      "source": [
        "unique_id = df_annotations['Annotator ID'].unique()\n",
        "unique_texts = df_annotations['Text'].unique()"
      ]
    },
    {
      "cell_type": "code",
      "execution_count": 364,
      "metadata": {
        "id": "zzhEVmZK4Vng"
      },
      "outputs": [],
      "source": [
        "answer_count = df_annotations['Annotator ID'].value_counts().to_dict()"
      ]
    },
    {
      "cell_type": "code",
      "execution_count": 365,
      "metadata": {
        "colab": {
          "base_uri": "https://localhost:8080/"
        },
        "id": "1OIg4y6ZDrV5",
        "outputId": "6dc88a21-0b80-4ec7-ac5b-068d5b0b4022"
      },
      "outputs": [
        {
          "output_type": "stream",
          "name": "stdout",
          "text": [
            "Number of annotators: 52\n",
            "Number of unique texts: 12137\n"
          ]
        }
      ],
      "source": [
        "print('Number of annotators:', len(unique_id))\n",
        "print('Number of unique texts:', len(unique_texts))"
      ]
    },
    {
      "cell_type": "markdown",
      "metadata": {
        "id": "WiBcO6H6MI82"
      },
      "source": [
        "There is no duplicated rows"
      ]
    },
    {
      "cell_type": "code",
      "execution_count": 366,
      "metadata": {
        "id": "XWC-cLsBLmyz"
      },
      "outputs": [],
      "source": [
        "assert len(df_annotations[df_annotations.groupby(df_annotations.columns.tolist(),as_index=False).size()['size'] > 1]) == 0"
      ]
    },
    {
      "cell_type": "markdown",
      "metadata": {
        "id": "En87cEnVZkGK"
      },
      "source": [
        "For every unique text at least 3 annotators was assigned"
      ]
    },
    {
      "cell_type": "code",
      "execution_count": 367,
      "metadata": {
        "colab": {
          "base_uri": "https://localhost:8080/"
        },
        "id": "yZ1mUgDlYopc",
        "outputId": "7bcb212d-d8ce-4093-aa97-7159244cd8bd"
      },
      "outputs": [
        {
          "output_type": "execute_result",
          "data": {
            "text/plain": [
              "3    12131\n",
              "4        6\n",
              "Name: Text, dtype: int64"
            ]
          },
          "metadata": {},
          "execution_count": 367
        }
      ],
      "source": [
        "df_annotations['Text'].value_counts().value_counts()"
      ]
    },
    {
      "cell_type": "code",
      "execution_count": 368,
      "metadata": {
        "id": "ee9Ltk5yIr_7"
      },
      "outputs": [],
      "source": [
        "reply_pattern = r'@[^ ]* {0,1}'\n",
        "\n",
        "replies = df_annotations['Text'].str.findall(reply_pattern)\n",
        "\n",
        "texts_cleared = df_annotations['Text'].apply(lambda x: re.sub(reply_pattern, '', x))"
      ]
    },
    {
      "cell_type": "code",
      "execution_count": 369,
      "metadata": {
        "id": "7gt_5tOcM91H"
      },
      "outputs": [],
      "source": [
        "replies = replies.apply(lambda x: x.strip() if isinstance(x, str) else [r.strip() for r in x])"
      ]
    },
    {
      "cell_type": "code",
      "execution_count": 370,
      "metadata": {
        "colab": {
          "base_uri": "https://localhost:8080/"
        },
        "id": "CC_VoROwgV6k",
        "outputId": "9921916e-225d-455a-99e2-e744ae4ecaf2"
      },
      "outputs": [
        {
          "output_type": "stream",
          "name": "stdout",
          "text": [
            "Number of rows without replies: 7611\n"
          ]
        }
      ],
      "source": [
        "print('Number of rows without replies:', replies.value_counts()[0])"
      ]
    },
    {
      "cell_type": "code",
      "execution_count": 371,
      "metadata": {
        "colab": {
          "base_uri": "https://localhost:8080/"
        },
        "id": "r4Wu3hYPNWlO",
        "outputId": "28a6cfb9-1b96-4b37-83a3-0db4b329cfec"
      },
      "outputs": [
        {
          "output_type": "stream",
          "name": "stdout",
          "text": [
            "Unique reply accounts: 5469\n"
          ]
        }
      ],
      "source": [
        "unique_replies = len(set(flatten_list(replies.values)))\n",
        "top_replies = Counter(flatten_list(replies.values))\n",
        "\n",
        "print('Unique reply accounts:', unique_replies)"
      ]
    },
    {
      "cell_type": "code",
      "execution_count": 372,
      "metadata": {
        "colab": {
          "base_uri": "https://localhost:8080/"
        },
        "id": "mEA1ozojQEQx",
        "outputId": "a499a048-7e2a-4a5f-dd1e-3bcc2334877b"
      },
      "outputs": [
        {
          "output_type": "stream",
          "name": "stdout",
          "text": [
            "Top Replies:\n",
            "\n",
            "@cz_binance is appeared 9294 times\n",
            "@binance is appeared 4260 times\n",
            "@BitMartExchange is appeared 3546 times\n",
            "@Hotbit_news is appeared 2262 times\n",
            "@kucoincom is appeared 1792 times\n",
            "@BitrueOfficial is appeared 1602 times\n",
            "@JeremyRubin is appeared 1137 times\n",
            "@etherdelta is appeared 1066 times\n",
            "@JihanWu is appeared 873 times\n",
            "@_prestwich is appeared 852 times\n"
          ]
        }
      ],
      "source": [
        "print('Top Replies:\\n')\n",
        "\n",
        "for top_r, count in sorted(top_replies.items(), key=lambda item: (item[1], item[0]), reverse=True)[:10]:\n",
        "    print(f'{top_r} is appeared {count} times')"
      ]
    },
    {
      "cell_type": "code",
      "execution_count": 373,
      "metadata": {
        "colab": {
          "base_uri": "https://localhost:8080/"
        },
        "id": "7ILHLyF1WSRY",
        "outputId": "cae218c2-975d-4635-b7a1-5bf7bf56ea81"
      },
      "outputs": [
        {
          "output_type": "stream",
          "name": "stdout",
          "text": [
            "Top Annotators:\n",
            "\n",
            "A3MV3PT4TOO69P is appeared 5126 times\n",
            "A3OCJJMRKAIJZA is appeared 5001 times\n",
            "A3BISMR4GI02ZG is appeared 3589 times\n",
            "A1MG8KNVSVZ365 is appeared 3561 times\n",
            "AQIP3DSYXEXX5 is appeared 3469 times\n",
            "A2LU259QPV1I4V is appeared 2689 times\n",
            "A3BJX6UUSOIKFN is appeared 1472 times\n",
            "A3BCKNE5CWHODZ is appeared 1443 times\n",
            "A9HQ3E0F2AGVO is appeared 1217 times\n",
            "ARW1TCHCLEK1W is appeared 1042 times\n"
          ]
        }
      ],
      "source": [
        "top_annotators = Counter(df_annotations['Annotator ID'])\n",
        "top_annotators = OrderedDict(sorted(top_annotators.items(), key=lambda item: (item[1], item[0]), reverse=True))\n",
        "\n",
        "print('Top Annotators:\\n')\n",
        "\n",
        "for top_a, count in islice(top_annotators.items(), 10):\n",
        "    print(f'{top_a} is appeared {count} times')"
      ]
    },
    {
      "cell_type": "code",
      "execution_count": 374,
      "metadata": {
        "colab": {
          "base_uri": "https://localhost:8080/",
          "height": 91
        },
        "id": "5DcpJJ6jKwRO",
        "outputId": "5c21c69b-20de-41f2-f1c2-6cf288c8c2d4"
      },
      "outputs": [
        {
          "output_type": "execute_result",
          "data": {
            "text/plain": [
              "<Axes: >"
            ]
          },
          "metadata": {},
          "execution_count": 374
        },
        {
          "output_type": "display_data",
          "data": {
            "text/plain": [
              "<Figure size 1400x600 with 1 Axes>"
            ],
            "image/png": "[encoded data removed]"
          },
          "metadata": {}
        }
      ],
      "source": [
        "sns.set(rc={'figure.figsize':(14, 6)})\n",
        "pal = sns.color_palette(\"mako\", len(top_annotators))\n",
        "plt.xticks(rotation=90)\n",
        "\n",
        "sns.barplot(x=list(top_annotators.keys()), y=list(top_annotators.values()), palette=np.array(pal[::-1]))"
      ]
    },
    {
      "cell_type": "code",
      "source": [
        "text_lengthes = list(map(lambda x: len(x), unique_texts))\n",
        "\n",
        "sns.set(rc={'figure.figsize':(14, 6)})\n",
        "pal = sns.color_palette(\"mako\", len(unique_texts))\n",
        "plt.xticks(rotation=90)\n",
        "\n",
        "sns.histplot(data=text_lengthes, palette=np.array(pal[::-1]))"
      ],
      "metadata": {
        "colab": {
          "base_uri": "https://localhost:8080/",
          "height": 165
        },
        "id": "n-ynIDxv_yiC",
        "outputId": "eac804a4-0c3e-4c30-c785-c4abf5000ea5"
      },
      "execution_count": 375,
      "outputs": [
        {
          "output_type": "stream",
          "name": "stderr",
          "text": [
            "<ipython-input-375-c925d5331af7>:7: UserWarning:\n",
            "\n",
            "Ignoring `palette` because no `hue` variable has been assigned.\n",
            "\n"
          ]
        },
        {
          "output_type": "execute_result",
          "data": {
            "text/plain": [
              "<Axes: ylabel='Count'>"
            ]
          },
          "metadata": {},
          "execution_count": 375
        },
        {
          "output_type": "display_data",
          "data": {
            "text/plain": [
              "<Figure size 1400x600 with 1 Axes>"
            ],
            "image/png": "[encoded data removed]"
          },
          "metadata": {}
        }
      ]
    },
    {
      "cell_type": "markdown",
      "metadata": {
        "id": "LxNBtXz8xpKN"
      },
      "source": [
        "## Bot identifying"
      ]
    },
    {
      "cell_type": "markdown",
      "metadata": {
        "id": "87wxuaTQXQ6g"
      },
      "source": [
        "### 1. Detect outliers based on success_rate for each annotator"
      ]
    },
    {
      "cell_type": "code",
      "execution_count": 376,
      "metadata": {
        "id": "9B8PYfddfhTv"
      },
      "outputs": [],
      "source": [
        "suitable_anns = [ann_id for ann_id in unique_id if answer_count[ann_id] > 40]"
      ]
    },
    {
      "cell_type": "code",
      "execution_count": 377,
      "metadata": {
        "id": "JDPzKG7zcUng"
      },
      "outputs": [],
      "source": [
        "df_filtered = df_annotations[df_annotations['Annotator ID'].isin(suitable_anns)]\n",
        "data_rate = df_filtered.groupby('Annotator ID')['Answer'].mean().reset_index()"
      ]
    },
    {
      "cell_type": "code",
      "source": [
        "X = data_rate['Answer'].to_numpy().reshape(-1, 1)"
      ],
      "metadata": {
        "id": "08g8W3iV2fB6"
      },
      "execution_count": 378,
      "outputs": []
    },
    {
      "cell_type": "code",
      "source": [
        "kern_dens = KernelDensity()\n",
        "kern_dens.fit(X)\n",
        "\n",
        "scores = kern_dens.score_samples(X)\n",
        "scores = -scores\n",
        "threshold = np.quantile(scores, 0.85)"
      ],
      "metadata": {
        "id": "EWKjf7fT1ds9"
      },
      "execution_count": 379,
      "outputs": []
    },
    {
      "cell_type": "code",
      "execution_count": 383,
      "metadata": {
        "id": "9AinHvI5JXBW"
      },
      "outputs": [],
      "source": [
        "idx = np.where(scores >= threshold)\n",
        "suspicious_ids_rate = np.array(data_rate.loc[idx]['Annotator ID'])"
      ]
    },
    {
      "cell_type": "code",
      "execution_count": 384,
      "metadata": {
        "id": "gK7dTVkoSqcB",
        "colab": {
          "base_uri": "https://localhost:8080/"
        },
        "outputId": "7b189f89-34d0-4253-878a-a7a2c14a5faf"
      },
      "outputs": [
        {
          "output_type": "execute_result",
          "data": {
            "text/plain": [
              "array(['A19X8IA9EKC3XH', 'A2CJFO19NY4T5R', 'A33Y36Y252Z30U',\n",
              "       'A3BJX6UUSOIKFN', 'A9HQ3E0F2AGVO'], dtype=object)"
            ]
          },
          "metadata": {},
          "execution_count": 384
        }
      ],
      "source": [
        "suspicious_ids_rate"
      ]
    },
    {
      "cell_type": "markdown",
      "metadata": {
        "id": "dpaAz0R-WNfk"
      },
      "source": [
        "### 2. View how often each individual annotator responds differently from the rest of them"
      ]
    },
    {
      "cell_type": "code",
      "execution_count": 286,
      "metadata": {
        "colab": {
          "base_uri": "https://localhost:8080/"
        },
        "id": "J2s5MBklgZbl",
        "outputId": "90511ce1-94d2-4ed8-a9c2-05454d660618"
      },
      "outputs": [
        {
          "output_type": "stream",
          "name": "stderr",
          "text": [
            "100%|██████████| 12137/12137 [00:54<00:00, 224.30it/s]\n"
          ]
        }
      ],
      "source": [
        "ann_count = defaultdict(int)\n",
        "\n",
        "for text in tqdm(unique_texts):\n",
        "    res = df_annotations[df_annotations['Text'] == text]\n",
        "    main_ann = res['Answer'].value_counts().idxmax()\n",
        "    ann_ids = res[res['Answer'] != main_ann][\"Annotator ID\"]\n",
        "\n",
        "    for id in ann_ids:\n",
        "        ann_count[id] += 1"
      ]
    },
    {
      "cell_type": "code",
      "execution_count": 287,
      "metadata": {
        "id": "AKZCFq8b0-wh"
      },
      "outputs": [],
      "source": [
        "counts = np.array(list(answer_count.values()))"
      ]
    },
    {
      "cell_type": "markdown",
      "metadata": {
        "id": "pbdZSDE3-qYk"
      },
      "source": [
        "Most likely, bots will be more active than regular annotators. So let's take IDs of annotators from the second half of the distribution"
      ]
    },
    {
      "cell_type": "code",
      "execution_count": 288,
      "metadata": {
        "id": "kvohjCHe1g6I"
      },
      "outputs": [],
      "source": [
        "suspicious_ann = dict([(ann_id, ann_count[ann_id] / answer_count[ann_id]) for ann_id in ann_count if answer_count[ann_id] > 40])\n",
        "suspicious_ann = OrderedDict(sorted(suspicious_ann.items(), key=lambda x:x[1], reverse=True))"
      ]
    },
    {
      "cell_type": "code",
      "execution_count": 289,
      "metadata": {
        "colab": {
          "base_uri": "https://localhost:8080/"
        },
        "id": "GUMnCggM8zxT",
        "outputId": "9fa22244-2a93-424d-96d8-b84e1bc4300e"
      },
      "outputs": [
        {
          "output_type": "execute_result",
          "data": {
            "text/plain": [
              "0.28939335511392966"
            ]
          },
          "metadata": {},
          "execution_count": 289
        }
      ],
      "source": [
        "np.quantile(list(suspicious_ann.values()), 0.85)"
      ]
    },
    {
      "cell_type": "code",
      "execution_count": 350,
      "metadata": {
        "id": "lpfNV4F60WtN"
      },
      "outputs": [],
      "source": [
        "suspicious_ids_difference = np.array([key for key, value in suspicious_ann.items() if value > 0.25])"
      ]
    },
    {
      "cell_type": "code",
      "execution_count": 351,
      "metadata": {
        "colab": {
          "base_uri": "https://localhost:8080/"
        },
        "id": "h6K2MaMdaqZj",
        "outputId": "e7cedde0-964c-4bb9-811f-6b5a4c4d7d1d"
      },
      "outputs": [
        {
          "output_type": "execute_result",
          "data": {
            "text/plain": [
              "array(['A3BJX6UUSOIKFN', 'A2CJFO19NY4T5R', 'A33Y36Y252Z30U',\n",
              "       'A9HQ3E0F2AGVO', 'AQIP3DSYXEXX5', 'A3OCJJMRKAIJZA',\n",
              "       'A1MG8KNVSVZ365'], dtype='<U14')"
            ]
          },
          "metadata": {},
          "execution_count": 351
        }
      ],
      "source": [
        "suspicious_ids_difference"
      ]
    },
    {
      "cell_type": "markdown",
      "metadata": {
        "id": "Gs3tUny6EfOp"
      },
      "source": [
        "### 3. Cluster distributions based on KL divergence"
      ]
    },
    {
      "cell_type": "code",
      "source": [
        "df_annotations"
      ],
      "metadata": {
        "colab": {
          "base_uri": "https://localhost:8080/",
          "height": 424
        },
        "id": "sbCAJKQhEJpC",
        "outputId": "9172ce34-ead7-4fe5-b85b-6958354ba89e"
      },
      "execution_count": 292,
      "outputs": [
        {
          "output_type": "execute_result",
          "data": {
            "text/plain": [
              "         Annotator ID                                               Text  \\\n",
              "0      A1MG8KNVSVZ365  @cz_binance Thanks for being upfront about thi...   \n",
              "1      A3OCJJMRKAIJZA  @cz_binance Thanks for being upfront about thi...   \n",
              "2       AQIP3DSYXEXX5  @cz_binance Thanks for being upfront about thi...   \n",
              "3      A1MG8KNVSVZ365  @cz_binance The speed with which Binance has r...   \n",
              "4      A3MV3PT4TOO69P  @cz_binance The speed with which Binance has r...   \n",
              "...               ...                                                ...   \n",
              "36412  A3BISMR4GI02ZG  @Hotbit_news @Alex_Hotbit Anyone here knows ho...   \n",
              "36413  A3MV3PT4TOO69P  @Hotbit_news @Alex_Hotbit Anyone here knows ho...   \n",
              "36414  A3MV3PT4TOO69P  @etherdelta it's not the case with all dex, #B...   \n",
              "36415  A3OCJJMRKAIJZA  @etherdelta it's not the case with all dex, #B...   \n",
              "36416  A3BISMR4GI02ZG  @etherdelta it's not the case with all dex, #B...   \n",
              "\n",
              "       Answer  \n",
              "0        True  \n",
              "1        True  \n",
              "2        True  \n",
              "3       False  \n",
              "4        True  \n",
              "...       ...  \n",
              "36412   False  \n",
              "36413   False  \n",
              "36414    True  \n",
              "36415    True  \n",
              "36416    True  \n",
              "\n",
              "[36417 rows x 3 columns]"
            ],
            "text/html": [
              "\n",
              "  <div id=\"df-2f914c08-13ff-467b-b479-5e6a90cc7757\" class=\"colab-df-container\">\n",
              "    <div>\n",
              "<style scoped>\n",
              "    .dataframe tbody tr th:only-of-type {\n",
              "        vertical-align: middle;\n",
              "    }\n",
              "\n",
              "    .dataframe tbody tr th {\n",
              "        vertical-align: top;\n",
              "    }\n",
              "\n",
              "    .dataframe thead th {\n",
              "        text-align: right;\n",
              "    }\n",
              "</style>\n",
              "<table border=\"1\" class=\"dataframe\">\n",
              "  <thead>\n",
              "    <tr style=\"text-align: right;\">\n",
              "      <th></th>\n",
              "      <th>Annotator ID</th>\n",
              "      <th>Text</th>\n",
              "      <th>Answer</th>\n",
              "    </tr>\n",
              "  </thead>\n",
              "  <tbody>\n",
              "    <tr>\n",
              "      <th>0</th>\n",
              "      <td>A1MG8KNVSVZ365</td>\n",
              "      <td>@cz_binance Thanks for being upfront about thi...</td>\n",
              "      <td>True</td>\n",
              "    </tr>\n",
              "    <tr>\n",
              "      <th>1</th>\n",
              "      <td>A3OCJJMRKAIJZA</td>\n",
              "      <td>@cz_binance Thanks for being upfront about thi...</td>\n",
              "      <td>True</td>\n",
              "    </tr>\n",
              "    <tr>\n",
              "      <th>2</th>\n",
              "      <td>AQIP3DSYXEXX5</td>\n",
              "      <td>@cz_binance Thanks for being upfront about thi...</td>\n",
              "      <td>True</td>\n",
              "    </tr>\n",
              "    <tr>\n",
              "      <th>3</th>\n",
              "      <td>A1MG8KNVSVZ365</td>\n",
              "      <td>@cz_binance The speed with which Binance has r...</td>\n",
              "      <td>False</td>\n",
              "    </tr>\n",
              "    <tr>\n",
              "      <th>4</th>\n",
              "      <td>A3MV3PT4TOO69P</td>\n",
              "      <td>@cz_binance The speed with which Binance has r...</td>\n",
              "      <td>True</td>\n",
              "    </tr>\n",
              "    <tr>\n",
              "      <th>...</th>\n",
              "      <td>...</td>\n",
              "      <td>...</td>\n",
              "      <td>...</td>\n",
              "    </tr>\n",
              "    <tr>\n",
              "      <th>36412</th>\n",
              "      <td>A3BISMR4GI02ZG</td>\n",
              "      <td>@Hotbit_news @Alex_Hotbit Anyone here knows ho...</td>\n",
              "      <td>False</td>\n",
              "    </tr>\n",
              "    <tr>\n",
              "      <th>36413</th>\n",
              "      <td>A3MV3PT4TOO69P</td>\n",
              "      <td>@Hotbit_news @Alex_Hotbit Anyone here knows ho...</td>\n",
              "      <td>False</td>\n",
              "    </tr>\n",
              "    <tr>\n",
              "      <th>36414</th>\n",
              "      <td>A3MV3PT4TOO69P</td>\n",
              "      <td>@etherdelta it's not the case with all dex, #B...</td>\n",
              "      <td>True</td>\n",
              "    </tr>\n",
              "    <tr>\n",
              "      <th>36415</th>\n",
              "      <td>A3OCJJMRKAIJZA</td>\n",
              "      <td>@etherdelta it's not the case with all dex, #B...</td>\n",
              "      <td>True</td>\n",
              "    </tr>\n",
              "    <tr>\n",
              "      <th>36416</th>\n",
              "      <td>A3BISMR4GI02ZG</td>\n",
              "      <td>@etherdelta it's not the case with all dex, #B...</td>\n",
              "      <td>True</td>\n",
              "    </tr>\n",
              "  </tbody>\n",
              "</table>\n",
              "<p>36417 rows × 3 columns</p>\n",
              "</div>\n",
              "    <div class=\"colab-df-buttons\">\n",
              "\n",
              "  <div class=\"colab-df-container\">\n",
              "    <button class=\"colab-df-convert\" onclick=\"convertToInteractive('df-2f914c08-13ff-467b-b479-5e6a90cc7757')\"\n",
              "            title=\"Convert this dataframe to an interactive table.\"\n",
              "            style=\"display:none;\">\n",
              "\n",
              "  <svg xmlns=\"http://www.w3.org/2000/svg\" height=\"24px\" viewBox=\"0 -960 960 960\">\n",
              "    <path d=\"M120-120v-720h720v720H120Zm60-500h600v-160H180v160Zm220 220h160v-160H400v160Zm0 220h160v-160H400v160ZM180-400h160v-160H180v160Zm440 0h160v-160H620v160ZM180-180h160v-160H180v160Zm440 0h160v-160H620v160Z\"/>\n",
              "  </svg>\n",
              "    </button>\n",
              "\n",
              "  <style>\n",
              "    .colab-df-container {\n",
              "      display:flex;\n",
              "      gap: 12px;\n",
              "    }\n",
              "\n",
              "    .colab-df-convert {\n",
              "      background-color: #E8F0FE;\n",
              "      border: none;\n",
              "      border-radius: 50%;\n",
              "      cursor: pointer;\n",
              "      display: none;\n",
              "      fill: #1967D2;\n",
              "      height: 32px;\n",
              "      padding: 0 0 0 0;\n",
              "      width: 32px;\n",
              "    }\n",
              "\n",
              "    .colab-df-convert:hover {\n",
              "      background-color: #E2EBFA;\n",
              "      box-shadow: 0px 1px 2px rgba(60, 64, 67, 0.3), 0px 1px 3px 1px rgba(60, 64, 67, 0.15);\n",
              "      fill: #174EA6;\n",
              "    }\n",
              "\n",
              "    .colab-df-buttons div {\n",
              "      margin-bottom: 4px;\n",
              "    }\n",
              "\n",
              "    [theme=dark] .colab-df-convert {\n",
              "      background-color: #3B4455;\n",
              "      fill: #D2E3FC;\n",
              "    }\n",
              "\n",
              "    [theme=dark] .colab-df-convert:hover {\n",
              "      background-color: #434B5C;\n",
              "      box-shadow: 0px 1px 3px 1px rgba(0, 0, 0, 0.15);\n",
              "      filter: drop-shadow(0px 1px 2px rgba(0, 0, 0, 0.3));\n",
              "      fill: #FFFFFF;\n",
              "    }\n",
              "  </style>\n",
              "\n",
              "    <script>\n",
              "      const buttonEl =\n",
              "        document.querySelector('#df-2f914c08-13ff-467b-b479-5e6a90cc7757 button.colab-df-convert');\n",
              "      buttonEl.style.display =\n",
              "        google.colab.kernel.accessAllowed ? 'block' : 'none';\n",
              "\n",
              "      async function convertToInteractive(key) {\n",
              "        const element = document.querySelector('#df-2f914c08-13ff-467b-b479-5e6a90cc7757');\n",
              "        const dataTable =\n",
              "          await google.colab.kernel.invokeFunction('convertToInteractive',\n",
              "                                                    [key], {});\n",
              "        if (!dataTable) return;\n",
              "\n",
              "        const docLinkHtml = 'Like what you see? Visit the ' +\n",
              "          '<a target=\"_blank\" href=https://colab.research.google.com/notebooks/data_table.ipynb>data table notebook</a>'\n",
              "          + ' to learn more about interactive tables.';\n",
              "        element.innerHTML = '';\n",
              "        dataTable['output_type'] = 'display_data';\n",
              "        await google.colab.output.renderOutput(dataTable, element);\n",
              "        const docLink = document.createElement('div');\n",
              "        docLink.innerHTML = docLinkHtml;\n",
              "        element.appendChild(docLink);\n",
              "      }\n",
              "    </script>\n",
              "  </div>\n",
              "\n",
              "\n",
              "<div id=\"df-37210e22-98c6-443d-a545-386ad38fb35c\">\n",
              "  <button class=\"colab-df-quickchart\" onclick=\"quickchart('df-37210e22-98c6-443d-a545-386ad38fb35c')\"\n",
              "            title=\"Suggest charts.\"\n",
              "            style=\"display:none;\">\n",
              "\n",
              "<svg xmlns=\"http://www.w3.org/2000/svg\" height=\"24px\"viewBox=\"0 0 24 24\"\n",
              "     width=\"24px\">\n",
              "    <g>\n",
              "        <path d=\"M19 3H5c-1.1 0-2 .9-2 2v14c0 1.1.9 2 2 2h14c1.1 0 2-.9 2-2V5c0-1.1-.9-2-2-2zM9 17H7v-7h2v7zm4 0h-2V7h2v10zm4 0h-2v-4h2v4z\"/>\n",
              "    </g>\n",
              "</svg>\n",
              "  </button>\n",
              "\n",
              "<style>\n",
              "  .colab-df-quickchart {\n",
              "      --bg-color: #E8F0FE;\n",
              "      --fill-color: #1967D2;\n",
              "      --hover-bg-color: #E2EBFA;\n",
              "      --hover-fill-color: #174EA6;\n",
              "      --disabled-fill-color: #AAA;\n",
              "      --disabled-bg-color: #DDD;\n",
              "  }\n",
              "\n",
              "  [theme=dark] .colab-df-quickchart {\n",
              "      --bg-color: #3B4455;\n",
              "      --fill-color: #D2E3FC;\n",
              "      --hover-bg-color: #434B5C;\n",
              "      --hover-fill-color: #FFFFFF;\n",
              "      --disabled-bg-color: #3B4455;\n",
              "      --disabled-fill-color: #666;\n",
              "  }\n",
              "\n",
              "  .colab-df-quickchart {\n",
              "    background-color: var(--bg-color);\n",
              "    border: none;\n",
              "    border-radius: 50%;\n",
              "    cursor: pointer;\n",
              "    display: none;\n",
              "    fill: var(--fill-color);\n",
              "    height: 32px;\n",
              "    padding: 0;\n",
              "    width: 32px;\n",
              "  }\n",
              "\n",
              "  .colab-df-quickchart:hover {\n",
              "    background-color: var(--hover-bg-color);\n",
              "    box-shadow: 0 1px 2px rgba(60, 64, 67, 0.3), 0 1px 3px 1px rgba(60, 64, 67, 0.15);\n",
              "    fill: var(--button-hover-fill-color);\n",
              "  }\n",
              "\n",
              "  .colab-df-quickchart-complete:disabled,\n",
              "  .colab-df-quickchart-complete:disabled:hover {\n",
              "    background-color: var(--disabled-bg-color);\n",
              "    fill: var(--disabled-fill-color);\n",
              "    box-shadow: none;\n",
              "  }\n",
              "\n",
              "  .colab-df-spinner {\n",
              "    border: 2px solid var(--fill-color);\n",
              "    border-color: transparent;\n",
              "    border-bottom-color: var(--fill-color);\n",
              "    animation:\n",
              "      spin 1s steps(1) infinite;\n",
              "  }\n",
              "\n",
              "  @keyframes spin {\n",
              "    0% {\n",
              "      border-color: transparent;\n",
              "      border-bottom-color: var(--fill-color);\n",
              "      border-left-color: var(--fill-color);\n",
              "    }\n",
              "    20% {\n",
              "      border-color: transparent;\n",
              "      border-left-color: var(--fill-color);\n",
              "      border-top-color: var(--fill-color);\n",
              "    }\n",
              "    30% {\n",
              "      border-color: transparent;\n",
              "      border-left-color: var(--fill-color);\n",
              "      border-top-color: var(--fill-color);\n",
              "      border-right-color: var(--fill-color);\n",
              "    }\n",
              "    40% {\n",
              "      border-color: transparent;\n",
              "      border-right-color: var(--fill-color);\n",
              "      border-top-color: var(--fill-color);\n",
              "    }\n",
              "    60% {\n",
              "      border-color: transparent;\n",
              "      border-right-color: var(--fill-color);\n",
              "    }\n",
              "    80% {\n",
              "      border-color: transparent;\n",
              "      border-right-color: var(--fill-color);\n",
              "      border-bottom-color: var(--fill-color);\n",
              "    }\n",
              "    90% {\n",
              "      border-color: transparent;\n",
              "      border-bottom-color: var(--fill-color);\n",
              "    }\n",
              "  }\n",
              "</style>\n",
              "\n",
              "  <script>\n",
              "    async function quickchart(key) {\n",
              "      const quickchartButtonEl =\n",
              "        document.querySelector('#' + key + ' button');\n",
              "      quickchartButtonEl.disabled = true;  // To prevent multiple clicks.\n",
              "      quickchartButtonEl.classList.add('colab-df-spinner');\n",
              "      try {\n",
              "        const charts = await google.colab.kernel.invokeFunction(\n",
              "            'suggestCharts', [key], {});\n",
              "      } catch (error) {\n",
              "        console.error('Error during call to suggestCharts:', error);\n",
              "      }\n",
              "      quickchartButtonEl.classList.remove('colab-df-spinner');\n",
              "      quickchartButtonEl.classList.add('colab-df-quickchart-complete');\n",
              "    }\n",
              "    (() => {\n",
              "      let quickchartButtonEl =\n",
              "        document.querySelector('#df-37210e22-98c6-443d-a545-386ad38fb35c button');\n",
              "      quickchartButtonEl.style.display =\n",
              "        google.colab.kernel.accessAllowed ? 'block' : 'none';\n",
              "    })();\n",
              "  </script>\n",
              "</div>\n",
              "    </div>\n",
              "  </div>\n"
            ]
          },
          "metadata": {},
          "execution_count": 292
        }
      ]
    },
    {
      "cell_type": "code",
      "source": [
        "answer_count = defaultdict(lambda: {'true': 0, 'false': 0})\n",
        "data = df_filtered.groupby('Annotator ID')['Answer'].value_counts()\n",
        "\n",
        "for count, (annotator, value) in zip(data, data.index):\n",
        "  key = 'true' if value else 'false'\n",
        "  answer_count[annotator][key] = count"
      ],
      "metadata": {
        "id": "M7P8NOy6VgKK"
      },
      "execution_count": 293,
      "outputs": []
    },
    {
      "cell_type": "code",
      "source": [
        "distributions = [(ans['true'], ans['false']) for ans in answer_count.values()]"
      ],
      "metadata": {
        "id": "4usPonkBbar3"
      },
      "execution_count": 294,
      "outputs": []
    },
    {
      "cell_type": "code",
      "source": [
        "probabilities = [(yes / (yes + no), no / (yes + no)) for yes, no in distributions]\n",
        "\n",
        "kl_matrix = np.zeros((len(probabilities), len(probabilities)))\n",
        "for i in range(len(probabilities)):\n",
        "    for j in range(len(probabilities)):\n",
        "        p = probabilities[i][0]\n",
        "        q = probabilities[j][0]\n",
        "\n",
        "        kl_matrix[i][j] = kl_div(p, q)\n",
        "\n",
        "kl_matrix[kl_matrix == np.inf] = 1"
      ],
      "metadata": {
        "id": "E76upTIOj-JK"
      },
      "execution_count": 295,
      "outputs": []
    },
    {
      "cell_type": "code",
      "source": [
        "dbscan=DBSCAN()\n",
        "dbscan.fit(kl_matrix)"
      ],
      "metadata": {
        "colab": {
          "base_uri": "https://localhost:8080/",
          "height": 75
        },
        "id": "43ZhhCmCfTw5",
        "outputId": "4c8fed57-abff-422b-a343-ae1141d3db68"
      },
      "execution_count": 296,
      "outputs": [
        {
          "output_type": "execute_result",
          "data": {
            "text/plain": [
              "DBSCAN()"
            ],
            "text/html": [
              "<style>#sk-container-id-2 {color: black;background-color: white;}#sk-container-id-2 pre{padding: 0;}#sk-container-id-2 div.sk-toggleable {background-color: white;}#sk-container-id-2 label.sk-toggleable__label {cursor: pointer;display: block;width: 100%;margin-bottom: 0;padding: 0.3em;box-sizing: border-box;text-align: center;}#sk-container-id-2 label.sk-toggleable__label-arrow:before {content: \"▸\";float: left;margin-right: 0.25em;color: #696969;}#sk-container-id-2 label.sk-toggleable__label-arrow:hover:before {color: black;}#sk-container-id-2 div.sk-estimator:hover label.sk-toggleable__label-arrow:before {color: black;}#sk-container-id-2 div.sk-toggleable__content {max-height: 0;max-width: 0;overflow: hidden;text-align: left;background-color: #f0f8ff;}#sk-container-id-2 div.sk-toggleable__content pre {margin: 0.2em;color: black;border-radius: 0.25em;background-color: #f0f8ff;}#sk-container-id-2 input.sk-toggleable__control:checked~div.sk-toggleable__content {max-height: 200px;max-width: 100%;overflow: auto;}#sk-container-id-2 input.sk-toggleable__control:checked~label.sk-toggleable__label-arrow:before {content: \"▾\";}#sk-container-id-2 div.sk-estimator input.sk-toggleable__control:checked~label.sk-toggleable__label {background-color: #d4ebff;}#sk-container-id-2 div.sk-label input.sk-toggleable__control:checked~label.sk-toggleable__label {background-color: #d4ebff;}#sk-container-id-2 input.sk-hidden--visually {border: 0;clip: rect(1px 1px 1px 1px);clip: rect(1px, 1px, 1px, 1px);height: 1px;margin: -1px;overflow: hidden;padding: 0;position: absolute;width: 1px;}#sk-container-id-2 div.sk-estimator {font-family: monospace;background-color: #f0f8ff;border: 1px dotted black;border-radius: 0.25em;box-sizing: border-box;margin-bottom: 0.5em;}#sk-container-id-2 div.sk-estimator:hover {background-color: #d4ebff;}#sk-container-id-2 div.sk-parallel-item::after {content: \"\";width: 100%;border-bottom: 1px solid gray;flex-grow: 1;}#sk-container-id-2 div.sk-label:hover label.sk-toggleable__label {background-color: #d4ebff;}#sk-container-id-2 div.sk-serial::before {content: \"\";position: absolute;border-left: 1px solid gray;box-sizing: border-box;top: 0;bottom: 0;left: 50%;z-index: 0;}#sk-container-id-2 div.sk-serial {display: flex;flex-direction: column;align-items: center;background-color: white;padding-right: 0.2em;padding-left: 0.2em;position: relative;}#sk-container-id-2 div.sk-item {position: relative;z-index: 1;}#sk-container-id-2 div.sk-parallel {display: flex;align-items: stretch;justify-content: center;background-color: white;position: relative;}#sk-container-id-2 div.sk-item::before, #sk-container-id-2 div.sk-parallel-item::before {content: \"\";position: absolute;border-left: 1px solid gray;box-sizing: border-box;top: 0;bottom: 0;left: 50%;z-index: -1;}#sk-container-id-2 div.sk-parallel-item {display: flex;flex-direction: column;z-index: 1;position: relative;background-color: white;}#sk-container-id-2 div.sk-parallel-item:first-child::after {align-self: flex-end;width: 50%;}#sk-container-id-2 div.sk-parallel-item:last-child::after {align-self: flex-start;width: 50%;}#sk-container-id-2 div.sk-parallel-item:only-child::after {width: 0;}#sk-container-id-2 div.sk-dashed-wrapped {border: 1px dashed gray;margin: 0 0.4em 0.5em 0.4em;box-sizing: border-box;padding-bottom: 0.4em;background-color: white;}#sk-container-id-2 div.sk-label label {font-family: monospace;font-weight: bold;display: inline-block;line-height: 1.2em;}#sk-container-id-2 div.sk-label-container {text-align: center;}#sk-container-id-2 div.sk-container {/* jupyter's `normalize.less` sets `[hidden] { display: none; }` but bootstrap.min.css set `[hidden] { display: none !important; }` so we also need the `!important` here to be able to override the default hidden behavior on the sphinx rendered scikit-learn.org. See: https://github.com/scikit-learn/scikit-learn/issues/21755 */display: inline-block !important;position: relative;}#sk-container-id-2 div.sk-text-repr-fallback {display: none;}</style><div id=\"sk-container-id-2\" class=\"sk-top-container\"><div class=\"sk-text-repr-fallback\"><pre>DBSCAN()</pre><b>In a Jupyter environment, please rerun this cell to show the HTML representation or trust the notebook. <br />On GitHub, the HTML representation is unable to render, please try loading this page with nbviewer.org.</b></div><div class=\"sk-container\" hidden><div class=\"sk-item\"><div class=\"sk-estimator sk-toggleable\"><input class=\"sk-toggleable__control sk-hidden--visually\" id=\"sk-estimator-id-2\" type=\"checkbox\" checked><label for=\"sk-estimator-id-2\" class=\"sk-toggleable__label sk-toggleable__label-arrow\">DBSCAN</label><div class=\"sk-toggleable__content\"><pre>DBSCAN()</pre></div></div></div></div></div>"
            ]
          },
          "metadata": {},
          "execution_count": 296
        }
      ]
    },
    {
      "cell_type": "code",
      "source": [
        "annotators_data = df_filtered.groupby('Annotator ID').mean()\n",
        "annotators_data['dbscan_label'] = dbscan.labels_\n",
        "annotators_data['dbscan_label'] = annotators_data['dbscan_label'].astype(str)"
      ],
      "metadata": {
        "id": "2QtY1ye38Mpb"
      },
      "execution_count": 303,
      "outputs": []
    },
    {
      "cell_type": "code",
      "source": [
        "annotators_data['p'] = [d[0] for d in distributions]\n",
        "annotators_data['q'] = [d[1] for d in distributions]"
      ],
      "metadata": {
        "id": "Tm1ZUN4lACtG"
      },
      "execution_count": 304,
      "outputs": []
    },
    {
      "cell_type": "code",
      "source": [
        "px.scatter_3d(data_frame=annotators_data,\n",
        "              x='p',\n",
        "              y='q',\n",
        "              z='Answer',\n",
        "              color='dbscan_label',\n",
        "              template='plotly_dark')"
      ],
      "metadata": {
        "colab": {
          "base_uri": "https://localhost:8080/",
          "height": 542
        },
        "id": "HgzZDaZu76SC",
        "outputId": "30fbbeb4-29d2-4707-bc3e-934274a71d29"
      },
      "execution_count": 302,
      "outputs": [
        {
          "output_type": "display_data",
          "data": {
            "text/html": [
              "<html>\n",
              "<head><meta charset=\"utf-8\" /></head>\n",
              "<body>\n",
              "    <div>            <script src=\"https://cdnjs.cloudflare.com/ajax/libs/mathjax/2.7.5/MathJax.js?config=TeX-AMS-MML_SVG\"></script><script type=\"text/javascript\">if (window.MathJax && window.MathJax.Hub && window.MathJax.Hub.Config) {window.MathJax.Hub.Config({SVG: {font: \"STIX-Web\"}});}</script>                <script type=\"text/javascript\">window.PlotlyConfig = {MathJaxConfig: 'local'};</script>\n",
              "        <script charset=\"utf-8\" src=\"https://cdn.plot.ly/plotly-2.24.1.min.js\"></script>                <div id=\"a5e69f27-36ac-42fa-98df-cfbec70a2017\" class=\"plotly-graph-div\" style=\"height:525px; width:100%;\"></div>            <script type=\"text/javascript\">                                    window.PLOTLYENV=window.PLOTLYENV || {};                                    if (document.getElementById(\"a5e69f27-36ac-42fa-98df-cfbec70a2017\")) {                    Plotly.newPlot(                        \"a5e69f27-36ac-42fa-98df-cfbec70a2017\",                        [{\"hovertemplate\":\"dbscan_label=0\\u003cbr\\u003ep=%{x}\\u003cbr\\u003eq=%{y}\\u003cbr\\u003eAnswer=%{z}\\u003cextra\\u003e\\u003c\\u002fextra\\u003e\",\"legendgroup\":\"0\",\"marker\":{\"color\":\"#636efa\",\"symbol\":\"circle\"},\"mode\":\"markers\",\"name\":\"0\",\"scene\":\"scene\",\"showlegend\":true,\"x\":[77,25,1933,47,47,461,59,14,1067,114,132,110,110,1128,925,43,3073,3588,81,97,46,32,83,1877,300,597,253],\"y\":[42,99,1628,37,53,253,14,64,1622,30,202,95,84,315,2664,24,2053,1413,186,153,155,13,449,1592,690,445,611],\"z\":[0.6470588235294118,0.20161290322580644,0.542825049143499,0.5595238095238095,0.47,0.6456582633053222,0.8082191780821918,0.1794871794871795,0.3968017850502045,0.7916666666666666,0.39520958083832336,0.5365853658536586,0.5670103092783505,0.7817047817047817,0.25773195876288657,0.6417910447761194,0.5994927818962154,0.7174565086982604,0.30337078651685395,0.388,0.22885572139303484,0.7111111111111111,0.15601503759398497,0.5410781204958202,0.30303030303030304,0.572936660268714,0.29282407407407407],\"type\":\"scatter3d\"},{\"hovertemplate\":\"dbscan_label=-1\\u003cbr\\u003ep=%{x}\\u003cbr\\u003eq=%{y}\\u003cbr\\u003eAnswer=%{z}\\u003cextra\\u003e\\u003c\\u002fextra\\u003e\",\"legendgroup\":\"-1\",\"marker\":{\"color\":\"#EF553B\",\"symbol\":\"circle\"},\"mode\":\"markers\",\"name\":\"-1\",\"scene\":\"scene\",\"showlegend\":true,\"x\":[427,922,9,4,1457,32,534],\"y\":[2,58,129,95,15,1185,31],\"z\":[0.9953379953379954,0.9408163265306122,0.06521739130434782,0.04040404040404041,0.9898097826086957,0.02629416598192276,0.9451327433628318],\"type\":\"scatter3d\"}],                        {\"template\":{\"data\":{\"barpolar\":[{\"marker\":{\"line\":{\"color\":\"rgb(17,17,17)\",\"width\":0.5},\"pattern\":{\"fillmode\":\"overlay\",\"size\":10,\"solidity\":0.2}},\"type\":\"barpolar\"}],\"bar\":[{\"error_x\":{\"color\":\"#f2f5fa\"},\"error_y\":{\"color\":\"#f2f5fa\"},\"marker\":{\"line\":{\"color\":\"rgb(17,17,17)\",\"width\":0.5},\"pattern\":{\"fillmode\":\"overlay\",\"size\":10,\"solidity\":0.2}},\"type\":\"bar\"}],\"carpet\":[{\"aaxis\":{\"endlinecolor\":\"#A2B1C6\",\"gridcolor\":\"#506784\",\"linecolor\":\"#506784\",\"minorgridcolor\":\"#506784\",\"startlinecolor\":\"#A2B1C6\"},\"baxis\":{\"endlinecolor\":\"#A2B1C6\",\"gridcolor\":\"#506784\",\"linecolor\":\"#506784\",\"minorgridcolor\":\"#506784\",\"startlinecolor\":\"#A2B1C6\"},\"type\":\"carpet\"}],\"choropleth\":[{\"colorbar\":{\"outlinewidth\":0,\"ticks\":\"\"},\"type\":\"choropleth\"}],\"contourcarpet\":[{\"colorbar\":{\"outlinewidth\":0,\"ticks\":\"\"},\"type\":\"contourcarpet\"}],\"contour\":[{\"colorbar\":{\"outlinewidth\":0,\"ticks\":\"\"},\"colorscale\":[[0.0,\"#0d0887\"],[0.1111111111111111,\"#46039f\"],[0.2222222222222222,\"#7201a8\"],[0.3333333333333333,\"#9c179e\"],[0.4444444444444444,\"#bd3786\"],[0.5555555555555556,\"#d8576b\"],[0.6666666666666666,\"#ed7953\"],[0.7777777777777778,\"#fb9f3a\"],[0.8888888888888888,\"#fdca26\"],[1.0,\"#f0f921\"]],\"type\":\"contour\"}],\"heatmapgl\":[{\"colorbar\":{\"outlinewidth\":0,\"ticks\":\"\"},\"colorscale\":[[0.0,\"#0d0887\"],[0.1111111111111111,\"#46039f\"],[0.2222222222222222,\"#7201a8\"],[0.3333333333333333,\"#9c179e\"],[0.4444444444444444,\"#bd3786\"],[0.5555555555555556,\"#d8576b\"],[0.6666666666666666,\"#ed7953\"],[0.7777777777777778,\"#fb9f3a\"],[0.8888888888888888,\"#fdca26\"],[1.0,\"#f0f921\"]],\"type\":\"heatmapgl\"}],\"heatmap\":[{\"colorbar\":{\"outlinewidth\":0,\"ticks\":\"\"},\"colorscale\":[[0.0,\"#0d0887\"],[0.1111111111111111,\"#46039f\"],[0.2222222222222222,\"#7201a8\"],[0.3333333333333333,\"#9c179e\"],[0.4444444444444444,\"#bd3786\"],[0.5555555555555556,\"#d8576b\"],[0.6666666666666666,\"#ed7953\"],[0.7777777777777778,\"#fb9f3a\"],[0.8888888888888888,\"#fdca26\"],[1.0,\"#f0f921\"]],\"type\":\"heatmap\"}],\"histogram2dcontour\":[{\"colorbar\":{\"outlinewidth\":0,\"ticks\":\"\"},\"colorscale\":[[0.0,\"#0d0887\"],[0.1111111111111111,\"#46039f\"],[0.2222222222222222,\"#7201a8\"],[0.3333333333333333,\"#9c179e\"],[0.4444444444444444,\"#bd3786\"],[0.5555555555555556,\"#d8576b\"],[0.6666666666666666,\"#ed7953\"],[0.7777777777777778,\"#fb9f3a\"],[0.8888888888888888,\"#fdca26\"],[1.0,\"#f0f921\"]],\"type\":\"histogram2dcontour\"}],\"histogram2d\":[{\"colorbar\":{\"outlinewidth\":0,\"ticks\":\"\"},\"colorscale\":[[0.0,\"#0d0887\"],[0.1111111111111111,\"#46039f\"],[0.2222222222222222,\"#7201a8\"],[0.3333333333333333,\"#9c179e\"],[0.4444444444444444,\"#bd3786\"],[0.5555555555555556,\"#d8576b\"],[0.6666666666666666,\"#ed7953\"],[0.7777777777777778,\"#fb9f3a\"],[0.8888888888888888,\"#fdca26\"],[1.0,\"#f0f921\"]],\"type\":\"histogram2d\"}],\"histogram\":[{\"marker\":{\"pattern\":{\"fillmode\":\"overlay\",\"size\":10,\"solidity\":0.2}},\"type\":\"histogram\"}],\"mesh3d\":[{\"colorbar\":{\"outlinewidth\":0,\"ticks\":\"\"},\"type\":\"mesh3d\"}],\"parcoords\":[{\"line\":{\"colorbar\":{\"outlinewidth\":0,\"ticks\":\"\"}},\"type\":\"parcoords\"}],\"pie\":[{\"automargin\":true,\"type\":\"pie\"}],\"scatter3d\":[{\"line\":{\"colorbar\":{\"outlinewidth\":0,\"ticks\":\"\"}},\"marker\":{\"colorbar\":{\"outlinewidth\":0,\"ticks\":\"\"}},\"type\":\"scatter3d\"}],\"scattercarpet\":[{\"marker\":{\"colorbar\":{\"outlinewidth\":0,\"ticks\":\"\"}},\"type\":\"scattercarpet\"}],\"scattergeo\":[{\"marker\":{\"colorbar\":{\"outlinewidth\":0,\"ticks\":\"\"}},\"type\":\"scattergeo\"}],\"scattergl\":[{\"marker\":{\"line\":{\"color\":\"#283442\"}},\"type\":\"scattergl\"}],\"scattermapbox\":[{\"marker\":{\"colorbar\":{\"outlinewidth\":0,\"ticks\":\"\"}},\"type\":\"scattermapbox\"}],\"scatterpolargl\":[{\"marker\":{\"colorbar\":{\"outlinewidth\":0,\"ticks\":\"\"}},\"type\":\"scatterpolargl\"}],\"scatterpolar\":[{\"marker\":{\"colorbar\":{\"outlinewidth\":0,\"ticks\":\"\"}},\"type\":\"scatterpolar\"}],\"scatter\":[{\"marker\":{\"line\":{\"color\":\"#283442\"}},\"type\":\"scatter\"}],\"scatterternary\":[{\"marker\":{\"colorbar\":{\"outlinewidth\":0,\"ticks\":\"\"}},\"type\":\"scatterternary\"}],\"surface\":[{\"colorbar\":{\"outlinewidth\":0,\"ticks\":\"\"},\"colorscale\":[[0.0,\"#0d0887\"],[0.1111111111111111,\"#46039f\"],[0.2222222222222222,\"#7201a8\"],[0.3333333333333333,\"#9c179e\"],[0.4444444444444444,\"#bd3786\"],[0.5555555555555556,\"#d8576b\"],[0.6666666666666666,\"#ed7953\"],[0.7777777777777778,\"#fb9f3a\"],[0.8888888888888888,\"#fdca26\"],[1.0,\"#f0f921\"]],\"type\":\"surface\"}],\"table\":[{\"cells\":{\"fill\":{\"color\":\"#506784\"},\"line\":{\"color\":\"rgb(17,17,17)\"}},\"header\":{\"fill\":{\"color\":\"#2a3f5f\"},\"line\":{\"color\":\"rgb(17,17,17)\"}},\"type\":\"table\"}]},\"layout\":{\"annotationdefaults\":{\"arrowcolor\":\"#f2f5fa\",\"arrowhead\":0,\"arrowwidth\":1},\"autotypenumbers\":\"strict\",\"coloraxis\":{\"colorbar\":{\"outlinewidth\":0,\"ticks\":\"\"}},\"colorscale\":{\"diverging\":[[0,\"#8e0152\"],[0.1,\"#c51b7d\"],[0.2,\"#de77ae\"],[0.3,\"#f1b6da\"],[0.4,\"#fde0ef\"],[0.5,\"#f7f7f7\"],[0.6,\"#e6f5d0\"],[0.7,\"#b8e186\"],[0.8,\"#7fbc41\"],[0.9,\"#4d9221\"],[1,\"#276419\"]],\"sequential\":[[0.0,\"#0d0887\"],[0.1111111111111111,\"#46039f\"],[0.2222222222222222,\"#7201a8\"],[0.3333333333333333,\"#9c179e\"],[0.4444444444444444,\"#bd3786\"],[0.5555555555555556,\"#d8576b\"],[0.6666666666666666,\"#ed7953\"],[0.7777777777777778,\"#fb9f3a\"],[0.8888888888888888,\"#fdca26\"],[1.0,\"#f0f921\"]],\"sequentialminus\":[[0.0,\"#0d0887\"],[0.1111111111111111,\"#46039f\"],[0.2222222222222222,\"#7201a8\"],[0.3333333333333333,\"#9c179e\"],[0.4444444444444444,\"#bd3786\"],[0.5555555555555556,\"#d8576b\"],[0.6666666666666666,\"#ed7953\"],[0.7777777777777778,\"#fb9f3a\"],[0.8888888888888888,\"#fdca26\"],[1.0,\"#f0f921\"]]},\"colorway\":[\"#636efa\",\"#EF553B\",\"#00cc96\",\"#ab63fa\",\"#FFA15A\",\"#19d3f3\",\"#FF6692\",\"#B6E880\",\"#FF97FF\",\"#FECB52\"],\"font\":{\"color\":\"#f2f5fa\"},\"geo\":{\"bgcolor\":\"rgb(17,17,17)\",\"lakecolor\":\"rgb(17,17,17)\",\"landcolor\":\"rgb(17,17,17)\",\"showlakes\":true,\"showland\":true,\"subunitcolor\":\"#506784\"},\"hoverlabel\":{\"align\":\"left\"},\"hovermode\":\"closest\",\"mapbox\":{\"style\":\"dark\"},\"paper_bgcolor\":\"rgb(17,17,17)\",\"plot_bgcolor\":\"rgb(17,17,17)\",\"polar\":{\"angularaxis\":{\"gridcolor\":\"#506784\",\"linecolor\":\"#506784\",\"ticks\":\"\"},\"bgcolor\":\"rgb(17,17,17)\",\"radialaxis\":{\"gridcolor\":\"#506784\",\"linecolor\":\"#506784\",\"ticks\":\"\"}},\"scene\":{\"xaxis\":{\"backgroundcolor\":\"rgb(17,17,17)\",\"gridcolor\":\"#506784\",\"gridwidth\":2,\"linecolor\":\"#506784\",\"showbackground\":true,\"ticks\":\"\",\"zerolinecolor\":\"#C8D4E3\"},\"yaxis\":{\"backgroundcolor\":\"rgb(17,17,17)\",\"gridcolor\":\"#506784\",\"gridwidth\":2,\"linecolor\":\"#506784\",\"showbackground\":true,\"ticks\":\"\",\"zerolinecolor\":\"#C8D4E3\"},\"zaxis\":{\"backgroundcolor\":\"rgb(17,17,17)\",\"gridcolor\":\"#506784\",\"gridwidth\":2,\"linecolor\":\"#506784\",\"showbackground\":true,\"ticks\":\"\",\"zerolinecolor\":\"#C8D4E3\"}},\"shapedefaults\":{\"line\":{\"color\":\"#f2f5fa\"}},\"sliderdefaults\":{\"bgcolor\":\"#C8D4E3\",\"bordercolor\":\"rgb(17,17,17)\",\"borderwidth\":1,\"tickwidth\":0},\"ternary\":{\"aaxis\":{\"gridcolor\":\"#506784\",\"linecolor\":\"#506784\",\"ticks\":\"\"},\"baxis\":{\"gridcolor\":\"#506784\",\"linecolor\":\"#506784\",\"ticks\":\"\"},\"bgcolor\":\"rgb(17,17,17)\",\"caxis\":{\"gridcolor\":\"#506784\",\"linecolor\":\"#506784\",\"ticks\":\"\"}},\"title\":{\"x\":0.05},\"updatemenudefaults\":{\"bgcolor\":\"#506784\",\"borderwidth\":0},\"xaxis\":{\"automargin\":true,\"gridcolor\":\"#283442\",\"linecolor\":\"#506784\",\"ticks\":\"\",\"title\":{\"standoff\":15},\"zerolinecolor\":\"#283442\",\"zerolinewidth\":2},\"yaxis\":{\"automargin\":true,\"gridcolor\":\"#283442\",\"linecolor\":\"#506784\",\"ticks\":\"\",\"title\":{\"standoff\":15},\"zerolinecolor\":\"#283442\",\"zerolinewidth\":2}}},\"scene\":{\"domain\":{\"x\":[0.0,1.0],\"y\":[0.0,1.0]},\"xaxis\":{\"title\":{\"text\":\"p\"}},\"yaxis\":{\"title\":{\"text\":\"q\"}},\"zaxis\":{\"title\":{\"text\":\"Answer\"}}},\"legend\":{\"title\":{\"text\":\"dbscan_label\"},\"tracegroupgap\":0},\"margin\":{\"t\":60}},                        {\"responsive\": true}                    ).then(function(){\n",
              "                            \n",
              "var gd = document.getElementById('a5e69f27-36ac-42fa-98df-cfbec70a2017');\n",
              "var x = new MutationObserver(function (mutations, observer) {{\n",
              "        var display = window.getComputedStyle(gd).display;\n",
              "        if (!display || display === 'none') {{\n",
              "            console.log([gd, 'removed!']);\n",
              "            Plotly.purge(gd);\n",
              "            observer.disconnect();\n",
              "        }}\n",
              "}});\n",
              "\n",
              "// Listen for the removal of the full notebook cells\n",
              "var notebookContainer = gd.closest('#notebook-container');\n",
              "if (notebookContainer) {{\n",
              "    x.observe(notebookContainer, {childList: true});\n",
              "}}\n",
              "\n",
              "// Listen for the clearing of the current output cell\n",
              "var outputEl = gd.closest('.output');\n",
              "if (outputEl) {{\n",
              "    x.observe(outputEl, {childList: true});\n",
              "}}\n",
              "\n",
              "                        })                };                            </script>        </div>\n",
              "</body>\n",
              "</html>"
            ]
          },
          "metadata": {}
        }
      ]
    },
    {
      "cell_type": "code",
      "source": [
        "suspicious_ids_kl = annotators_data[annotators_data['dbscan_label'] == '-1'].index.to_numpy()"
      ],
      "metadata": {
        "id": "S0aqcWwQG5BZ"
      },
      "execution_count": 313,
      "outputs": []
    },
    {
      "cell_type": "code",
      "source": [
        "suspicious_ids_kl"
      ],
      "metadata": {
        "colab": {
          "base_uri": "https://localhost:8080/"
        },
        "id": "AikK1VRHHjYO",
        "outputId": "3e4e2137-66de-4956-c90f-dab695f42d91"
      },
      "execution_count": 314,
      "outputs": [
        {
          "output_type": "execute_result",
          "data": {
            "text/plain": [
              "array(['A19X8IA9EKC3XH', 'A1MJVTR0PCKBWW', 'A2CJFO19NY4T5R',\n",
              "       'A33Y36Y252Z30U', 'A3BJX6UUSOIKFN', 'A9HQ3E0F2AGVO',\n",
              "       'AOOF0H0EIEFFQ'], dtype=object)"
            ]
          },
          "metadata": {},
          "execution_count": 314
        }
      ]
    },
    {
      "cell_type": "markdown",
      "metadata": {
        "id": "M4V9UR5Ib-ZV"
      },
      "source": [
        "### 4. Using external text classification as a ground truth"
      ]
    },
    {
      "cell_type": "code",
      "source": [
        "text_lengthes = np.array(text_lengthes)\n",
        "threshold = int(np.quantile(text_lengthes, 0.9))"
      ],
      "metadata": {
        "id": "QtSnjWFOBOuU"
      },
      "execution_count": null,
      "outputs": []
    },
    {
      "cell_type": "code",
      "source": [
        "idx = np.where(text_lengthes <= threshold)\n",
        "unique_texts_filtred = unique_texts[idx]"
      ],
      "metadata": {
        "id": "4GeZq83NJixA"
      },
      "execution_count": null,
      "outputs": []
    },
    {
      "cell_type": "code",
      "source": [
        "model_name = \"gpt-3.5-turbo\"\n",
        "openai.api_key = \"\"\n",
        "\n",
        "max_token_length = 120\n",
        "system_prompt = \"Does this tweet relates to a hacker attack topic, security incident, any vulnerabilities and other similar onces?\""
      ],
      "metadata": {
        "id": "o0xzmOEA4_pA"
      },
      "execution_count": null,
      "outputs": []
    },
    {
      "cell_type": "code",
      "source": [
        "request_semaphore = asyncio.Semaphore(10)\n",
        "\n",
        "@retry(wait=wait_random_exponential(min=1, max=60), stop=stop_after_attempt(2))\n",
        "async def get_answer(text, model=\"gpt-3.5-turbo\", temperature=1):\n",
        "\n",
        "    messages = [{\n",
        "        \"role\": \"system\",\n",
        "        \"content\": system_prompt\n",
        "      }, {\n",
        "        \"role\": \"user\",\n",
        "        \"content\": text\n",
        "      }\n",
        "    ]\n",
        "\n",
        "    async with request_semaphore:\n",
        "        response = await openai.ChatCompletion.acreate(\n",
        "            model = model,\n",
        "            messages = messages,\n",
        "            temperature=temperature,\n",
        "            max_tokens=max_token_length\n",
        "        )\n",
        "    return {text: response.choices[0].message[\"content\"]}"
      ],
      "metadata": {
        "id": "NLu5UsbeVwIR"
      },
      "execution_count": null,
      "outputs": []
    },
    {
      "cell_type": "code",
      "source": [
        "openai.aiosession.set(ClientSession())\n",
        "results = await asyncio.gather(*[get_answer(text) for text in tqdm(unique_texts_filtred)])\n",
        "await openai.aiosession.get().close()"
      ],
      "metadata": {
        "colab": {
          "base_uri": "https://localhost:8080/"
        },
        "id": "EuFcbL3jdGr_",
        "outputId": "3c6b4d67-eb59-4b66-ad2d-5003eca1eb60"
      },
      "execution_count": null,
      "outputs": [
        {
          "output_type": "stream",
          "name": "stderr",
          "text": [
            "100%|██████████| 10925/10925 [00:00<00:00, 330933.96it/s]\n"
          ]
        }
      ]
    },
    {
      "cell_type": "code",
      "source": [
        "no_phrases = ['it does not appear to relate to', 'it does not directly relate to', 'does not relate to', 'it does not mention', 'it does not seem to directly relate', 'does not directly relate to', 'does not specifically mention', 'there is no mention of', 'does not specifically mention', 'does not appear to relate to']"
      ],
      "metadata": {
        "id": "mCzMz9iBIt2L"
      },
      "execution_count": 333,
      "outputs": []
    },
    {
      "cell_type": "code",
      "source": [
        "yes_phrases = ['it does mention', 't does suggest', 'phishing attempt', 'scam attempt']"
      ],
      "metadata": {
        "id": "X1ztpquYJgwQ"
      },
      "execution_count": 334,
      "outputs": []
    },
    {
      "cell_type": "code",
      "source": [
        "resp_marked = {}\n",
        "\n",
        "for key, val in zip(get_keys(results), get_values(results)):\n",
        "  if val.lower().startswith('yes') or any(np in val.lower() for np in yes_phrases):\n",
        "    resp_marked[key] = True\n",
        "  elif val.lower().startswith('no') or any(np in val.lower() for np in no_phrases):\n",
        "    resp_marked[key] = False"
      ],
      "metadata": {
        "id": "rN62ZzOn6oWT"
      },
      "execution_count": 335,
      "outputs": []
    },
    {
      "cell_type": "code",
      "source": [
        "from collections import defaultdict\n",
        "\n",
        "counts = defaultdict(lambda: {'total': 0, 'incorrect': 0})\n",
        "\n",
        "for _, row in tqdm(df_filtered.iterrows()):\n",
        "    annotator = row['Annotator ID']\n",
        "    text = row['Text']\n",
        "    annotation_result = row['Answer']\n",
        "\n",
        "    if text in resp_marked:\n",
        "        counts[annotator]['total'] += 1\n",
        "\n",
        "        if annotation_result != resp_marked[text]:\n",
        "            counts[annotator]['incorrect'] += 1\n",
        "\n",
        "percent_incorrect = {annotator: (data['incorrect'] / data['total']) * 100 for annotator, data in counts.items()}"
      ],
      "metadata": {
        "colab": {
          "base_uri": "https://localhost:8080/"
        },
        "id": "kVU07_dGGMw1",
        "outputId": "17632f6b-3767-4664-908e-e18238fe9d19"
      },
      "execution_count": 337,
      "outputs": [
        {
          "output_type": "stream",
          "name": "stderr",
          "text": [
            "36205it [00:02, 12288.37it/s]\n"
          ]
        }
      ]
    },
    {
      "cell_type": "code",
      "source": [
        "percent_incorrect = pd.DataFrame({'annotators': percent_incorrect.keys(), 'inc_perc': percent_incorrect.values()})"
      ],
      "metadata": {
        "id": "zIUUY6-PRDm-"
      },
      "execution_count": 339,
      "outputs": []
    },
    {
      "cell_type": "code",
      "source": [
        "incorrect_perc = np.array(list(percent_incorrect.inc_perc))\n",
        "threshold = np.quantile(incorrect_perc, 0.1)"
      ],
      "metadata": {
        "id": "tfnrrDtXGcDB"
      },
      "execution_count": 342,
      "outputs": []
    },
    {
      "cell_type": "code",
      "source": [
        "df_filtered = df_annotations[df_annotations['Annotator ID'].isin(suitable_anns)]\n",
        "\n",
        "idx = np.where(percent_incorrect['inc_perc'] <= threshold)\n",
        "suspicious_ids_ans = np.array(percent_incorrect.loc[idx].annotators)"
      ],
      "metadata": {
        "id": "y9iktXYjQOiQ"
      },
      "execution_count": 347,
      "outputs": []
    },
    {
      "cell_type": "markdown",
      "source": [
        "### 5. Putting everything together"
      ],
      "metadata": {
        "id": "8ArYkbfmHmzr"
      }
    },
    {
      "cell_type": "code",
      "source": [
        "suspicious_ids_rate"
      ],
      "metadata": {
        "colab": {
          "base_uri": "https://localhost:8080/"
        },
        "id": "OdaglAuEJ8Ob",
        "outputId": "f0ecfec3-9559-4c39-feab-aa4f5f95a869"
      },
      "execution_count": 385,
      "outputs": [
        {
          "output_type": "execute_result",
          "data": {
            "text/plain": [
              "array(['A19X8IA9EKC3XH', 'A2CJFO19NY4T5R', 'A33Y36Y252Z30U',\n",
              "       'A3BJX6UUSOIKFN', 'A9HQ3E0F2AGVO'], dtype=object)"
            ]
          },
          "metadata": {},
          "execution_count": 385
        }
      ]
    },
    {
      "cell_type": "code",
      "source": [
        "suspicious_ids_difference"
      ],
      "metadata": {
        "colab": {
          "base_uri": "https://localhost:8080/"
        },
        "id": "4hWnaYnoIxgP",
        "outputId": "abef5e44-c837-4b83-a58a-b284140e009f"
      },
      "execution_count": 352,
      "outputs": [
        {
          "output_type": "execute_result",
          "data": {
            "text/plain": [
              "array(['A3BJX6UUSOIKFN', 'A2CJFO19NY4T5R', 'A33Y36Y252Z30U',\n",
              "       'A9HQ3E0F2AGVO', 'AQIP3DSYXEXX5', 'A3OCJJMRKAIJZA',\n",
              "       'A1MG8KNVSVZ365'], dtype='<U14')"
            ]
          },
          "metadata": {},
          "execution_count": 352
        }
      ]
    },
    {
      "cell_type": "code",
      "source": [
        "suspicious_ids_kl"
      ],
      "metadata": {
        "colab": {
          "base_uri": "https://localhost:8080/"
        },
        "id": "5lMxQQJ3It3L",
        "outputId": "cc12c81b-388b-490d-8cc7-4159a2cc1600"
      },
      "execution_count": 315,
      "outputs": [
        {
          "output_type": "execute_result",
          "data": {
            "text/plain": [
              "array(['A19X8IA9EKC3XH', 'A1MJVTR0PCKBWW', 'A2CJFO19NY4T5R',\n",
              "       'A33Y36Y252Z30U', 'A3BJX6UUSOIKFN', 'A9HQ3E0F2AGVO',\n",
              "       'AOOF0H0EIEFFQ'], dtype=object)"
            ]
          },
          "metadata": {},
          "execution_count": 315
        }
      ]
    },
    {
      "cell_type": "code",
      "source": [
        "suspicious_ids_ans"
      ],
      "metadata": {
        "colab": {
          "base_uri": "https://localhost:8080/"
        },
        "id": "ipuuoAQuIwj_",
        "outputId": "4448590a-3d07-4832-ae8d-e6fe9b454a0a"
      },
      "execution_count": 349,
      "outputs": [
        {
          "output_type": "execute_result",
          "data": {
            "text/plain": [
              "array(['A9HQ3E0F2AGVO', 'A2LU259QPV1I4V', 'AJQGWGESKQT4Y',\n",
              "       'A19X8IA9EKC3XH'], dtype=object)"
            ]
          },
          "metadata": {},
          "execution_count": 349
        }
      ]
    },
    {
      "cell_type": "code",
      "source": [
        "candidates = np.unique(np.concatenate((suspicious_ids_rate, suspicious_ids_ans, suspicious_ids_difference, suspicious_ids_ans)))"
      ],
      "metadata": {
        "id": "z13s7KTnKfG0"
      },
      "execution_count": 394,
      "outputs": []
    },
    {
      "cell_type": "code",
      "source": [
        "scores = pd.DataFrame({'annotator': candidates, 'score': np.zeros(len(candidates))})"
      ],
      "metadata": {
        "id": "884qznrmKM5R"
      },
      "execution_count": 448,
      "outputs": []
    },
    {
      "cell_type": "code",
      "source": [
        "def update_score(row):\n",
        "  if row.annotator in suspicious_ids_rate:\n",
        "    row.score += 0.3\n",
        "  if row.annotator in suspicious_ids_difference:\n",
        "    row.score += 0.3\n",
        "  if row.annotator in suspicious_ids_kl:\n",
        "    row.score += 0.3\n",
        "  if row.annotator in suspicious_ids_ans:\n",
        "    row.score += 0.1\n",
        "  return row"
      ],
      "metadata": {
        "id": "viV2jpl_MiWf"
      },
      "execution_count": 449,
      "outputs": []
    },
    {
      "cell_type": "code",
      "source": [
        "scores = scores.apply(update_score, axis=1)"
      ],
      "metadata": {
        "id": "5MkxDVPVLLKI"
      },
      "execution_count": 450,
      "outputs": []
    },
    {
      "cell_type": "code",
      "source": [
        "scores = scores[scores.score >= 0.5]"
      ],
      "metadata": {
        "id": "B7PqnhqCMnFz"
      },
      "execution_count": 452,
      "outputs": []
    },
    {
      "cell_type": "markdown",
      "source": [
        "By combining several assessment methods, assigning a certain weight to each of them, the list of suspicious accounts looks like this"
      ],
      "metadata": {
        "id": "40aQ_YOyQA1z"
      }
    },
    {
      "cell_type": "code",
      "source": [
        "print(*list(scores.annotator), sep='\\n')"
      ],
      "metadata": {
        "colab": {
          "base_uri": "https://localhost:8080/"
        },
        "id": "dqVL7UvoMpaR",
        "outputId": "a3d313f5-4008-48bb-f7f6-6b41719e634f"
      },
      "execution_count": 464,
      "outputs": [
        {
          "output_type": "stream",
          "name": "stdout",
          "text": [
            "A19X8IA9EKC3XH\n",
            "A2CJFO19NY4T5R\n",
            "A33Y36Y252Z30U\n",
            "A3BJX6UUSOIKFN\n",
            "A9HQ3E0F2AGVO\n"
          ]
        }
      ]
    }
  ],
  "metadata": {
    "colab": {
      "provenance": []
    },
    "kernelspec": {
      "display_name": "Python 3",
      "name": "python3"
    },
    "language_info": {
      "name": "python"
    }
  },
  "nbformat": 4,
  "nbformat_minor": 0
}